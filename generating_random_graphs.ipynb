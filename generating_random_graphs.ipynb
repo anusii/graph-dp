{
 "cells": [
  {
   "cell_type": "markdown",
   "id": "respected-practitioner",
   "metadata": {},
   "source": [
    "# Generating Random Graphs"
   ]
  },
  {
   "cell_type": "markdown",
   "id": "clean-italian",
   "metadata": {},
   "source": [
    "We frequently use random graphs to evaluate differentially private release mechanisms. There are several availabhle libraries that provide algorithms that can be used to generate several kinds of random graphs. We demonstrate how to use two such libraries, NetworkX and igraph, to generate both Erdős-Rényi random graphs and Barabási-Albert random graphs."
   ]
  },
  {
   "cell_type": "markdown",
   "id": "limiting-print",
   "metadata": {},
   "source": [
    "## NetworkX\n",
    "\n",
    "Per their [website](https://networkx.org) - \"NetworkX is a Python package for the creation, manipulation, and study of the structure, dynamics, and functions of complex networks.\""
   ]
  },
  {
   "cell_type": "code",
   "execution_count": 1,
   "id": "seeing-timer",
   "metadata": {},
   "outputs": [],
   "source": [
    "import networkx as nx"
   ]
  },
  {
   "cell_type": "markdown",
   "id": "employed-flooring",
   "metadata": {},
   "source": [
    "### Erdős-Rényi Random Graphs"
   ]
  },
  {
   "cell_type": "markdown",
   "id": "advisory-value",
   "metadata": {},
   "source": [
    "The family of Erdős-Rényi random graphs are parameterized by two values, usually denoted $n$ and $p$. The parameter $n$ specifies the number of nodes in the graph while the parameter $p$ specifies the probability that each of the $\\binom{n}{2}$ possible edges is in the graph.\n",
    "\n",
    "To generate such a graph, we use the function `nx.erdos_renyi_graph`."
   ]
  },
  {
   "cell_type": "code",
   "execution_count": 5,
   "id": "separate-piano",
   "metadata": {},
   "outputs": [],
   "source": [
    "g = nx.erdos_renyi_graph(10, 0.25)"
   ]
  },
  {
   "cell_type": "markdown",
   "id": "marine-vocabulary",
   "metadata": {},
   "source": [
    "We can see the nodes in such a graph via `g.nodes()`. This returns a `NodeView` listing of the nodes in `g`. A `NodeView` is a set-like container that can be cast to another container type (e.g a `list`, `set`, or `dict`) as needed."
   ]
  },
  {
   "cell_type": "code",
   "execution_count": 11,
   "id": "entire-dinner",
   "metadata": {},
   "outputs": [
    {
     "name": "stdout",
     "output_type": "stream",
     "text": [
      "[0, 1, 2, 3, 4, 5, 6, 7, 8, 9]\n"
     ]
    }
   ],
   "source": [
    "print(g.nodes())"
   ]
  },
  {
   "cell_type": "markdown",
   "id": "saving-ceramic",
   "metadata": {},
   "source": [
    "We can see the edges in a graph via `g.edges()`. This returns an `EdgeView` listing of the edges in the `g`.  As with `NodeView` listings , an EdgeView is a dict-like structure and can be cast as another container type as needed."
   ]
  },
  {
   "cell_type": "code",
   "execution_count": 12,
   "id": "taken-commercial",
   "metadata": {},
   "outputs": [
    {
     "name": "stdout",
     "output_type": "stream",
     "text": [
      "[(0, 3), (0, 4), (0, 5), (0, 8), (0, 9), (2, 4), (3, 9), (4, 6), (4, 9), (5, 7), (6, 8), (6, 9), (7, 8)]\n"
     ]
    }
   ],
   "source": [
    "print(g.edges())"
   ]
  },
  {
   "cell_type": "markdown",
   "id": "assisted-vermont",
   "metadata": {},
   "source": [
    "Note that The function `nx.erdos_renyi_graph` described above is an alias for the more explicitly named function `nx.gnp_random_graph`.\n",
    "\n",
    "There is a second family of random graphs that are sometimes called \"Erdős-Rényi random graphs\". This family is also paramterized by two values. As before, the parameter $n$ specifies the number of nodes in the graph. In this family, however, the second parameter $m$ describes the number of edges in the graph.\n",
    "\n",
    "To generate such a graph, we use the function `nx.gnm_random_graph`."
   ]
  },
  {
   "cell_type": "code",
   "execution_count": 13,
   "id": "controlling-content",
   "metadata": {},
   "outputs": [],
   "source": [
    "g = nx.gnm_random_graph(10, 5)"
   ]
  },
  {
   "cell_type": "markdown",
   "id": "traditional-plymouth",
   "metadata": {},
   "source": [
    "As before, we can see the nodes and edges of such a graph using the functions `g.nodes()` and `g.edges()`1 respectively."
   ]
  },
  {
   "cell_type": "code",
   "execution_count": 14,
   "id": "moving-greeting",
   "metadata": {},
   "outputs": [
    {
     "name": "stdout",
     "output_type": "stream",
     "text": [
      "[0, 1, 2, 3, 4, 5, 6, 7, 8, 9]\n"
     ]
    }
   ],
   "source": [
    "print(g.nodes())"
   ]
  },
  {
   "cell_type": "code",
   "execution_count": 16,
   "id": "third-minimum",
   "metadata": {},
   "outputs": [
    {
     "name": "stdout",
     "output_type": "stream",
     "text": [
      "[(1, 2), (1, 8), (4, 5), (4, 8), (5, 8)]\n"
     ]
    }
   ],
   "source": [
    "print(g.edges())"
   ]
  },
  {
   "cell_type": "markdown",
   "id": "assumed-transcript",
   "metadata": {},
   "source": [
    "### Barabási-Albert Random Graphs"
   ]
  },
  {
   "cell_type": "markdown",
   "id": "disciplinary-burst",
   "metadata": {},
   "source": [
    "The family of Barabási-Albert random graphs are parameterized by two values, denoted $n$ and $m$. The parameter $n$ denotes the number of nodes in the graph. The parameter $m$ describes how the nodes are connected to one another.\n",
    "\n",
    "In this implementation, we start with $m$ nodes and zero edges. The remaining nodes are added to the graph one at a time. Each time a new node is added, edges between the new node and $m$ different existing nodes are added to the graph.  These edges are chosen randomly, with each \"target\" node being chosen with probability proportional to its degree."
   ]
  },
  {
   "cell_type": "code",
   "execution_count": 19,
   "id": "spare-assurance",
   "metadata": {},
   "outputs": [],
   "source": [
    "g = nx.barabasi_albert_graph(10, 5)"
   ]
  },
  {
   "cell_type": "markdown",
   "id": "unusual-split",
   "metadata": {},
   "source": [
    "As with Erdős-Rényi random graphs, we can see the nodes and edges in such a graph by using the functions `g.nodes`, and `g.edges` respectively."
   ]
  },
  {
   "cell_type": "code",
   "execution_count": 20,
   "id": "cordless-circular",
   "metadata": {},
   "outputs": [
    {
     "name": "stdout",
     "output_type": "stream",
     "text": [
      "[0, 1, 2, 3, 4, 5, 6, 7, 8, 9]\n"
     ]
    }
   ],
   "source": [
    "print(g.nodes())"
   ]
  },
  {
   "cell_type": "code",
   "execution_count": 21,
   "id": "future-softball",
   "metadata": {},
   "outputs": [
    {
     "name": "stdout",
     "output_type": "stream",
     "text": [
      "[(0, 5), (0, 6), (1, 5), (1, 6), (1, 7), (1, 8), (2, 5), (2, 7), (2, 9), (3, 5), (3, 6), (4, 5), (4, 6), (4, 7), (4, 8), (4, 9), (5, 6), (5, 7), (5, 8), (5, 9), (6, 7), (6, 8), (7, 8), (7, 9), (8, 9)]\n"
     ]
    }
   ],
   "source": [
    "print(g.edges())"
   ]
  },
  {
   "cell_type": "markdown",
   "id": "mental-insight",
   "metadata": {},
   "source": [
    "### Other Random Graphs"
   ]
  },
  {
   "cell_type": "markdown",
   "id": "sweet-ridge",
   "metadata": {},
   "source": [
    "There are many other algorithms for generating random graphs provided by NetworkX. One way to access these is via the module `nx.random_graphs` and the built-in help functionality. Alternative, we can use tab completion in Jupyter notebooks to access a list of algorithms included in the module."
   ]
  },
  {
   "cell_type": "code",
   "execution_count": 24,
   "id": "acoustic-objective",
   "metadata": {},
   "outputs": [
    {
     "name": "stdout",
     "output_type": "stream",
     "text": [
      "Help on module networkx.generators.random_graphs in networkx.generators:\n",
      "\n",
      "NAME\n",
      "    networkx.generators.random_graphs - Generators for random graphs.\n",
      "\n",
      "FUNCTIONS\n",
      "    barabasi_albert_graph(n, m, seed=None)\n",
      "        Returns a random graph according to the Barabási–Albert preferential\n",
      "        attachment model.\n",
      "        \n",
      "        A graph of $n$ nodes is grown by attaching new nodes each with $m$\n",
      "        edges that are preferentially attached to existing nodes with high degree.\n",
      "        \n",
      "        Parameters\n",
      "        ----------\n",
      "        n : int\n",
      "            Number of nodes\n",
      "        m : int\n",
      "            Number of edges to attach from a new node to existing nodes\n",
      "        seed : integer, random_state, or None (default)\n",
      "            Indicator of random number generation state.\n",
      "            See :ref:`Randomness<randomness>`.\n",
      "        \n",
      "        Returns\n",
      "        -------\n",
      "        G : Graph\n",
      "        \n",
      "        Raises\n",
      "        ------\n",
      "        NetworkXError\n",
      "            If `m` does not satisfy ``1 <= m < n``.\n",
      "        \n",
      "        References\n",
      "        ----------\n",
      "        .. [1] A. L. Barabási and R. Albert \"Emergence of scaling in\n",
      "           random networks\", Science 286, pp 509-512, 1999.\n",
      "    \n",
      "    binomial_graph = gnp_random_graph(n, p, seed=None, directed=False)\n",
      "        Returns a $G_{n,p}$ random graph, also known as an Erdős-Rényi graph\n",
      "        or a binomial graph.\n",
      "        \n",
      "        The $G_{n,p}$ model chooses each of the possible edges with probability $p$.\n",
      "        \n",
      "        Parameters\n",
      "        ----------\n",
      "        n : int\n",
      "            The number of nodes.\n",
      "        p : float\n",
      "            Probability for edge creation.\n",
      "        seed : integer, random_state, or None (default)\n",
      "            Indicator of random number generation state.\n",
      "            See :ref:`Randomness<randomness>`.\n",
      "        directed : bool, optional (default=False)\n",
      "            If True, this function returns a directed graph.\n",
      "        \n",
      "        See Also\n",
      "        --------\n",
      "        fast_gnp_random_graph\n",
      "        \n",
      "        Notes\n",
      "        -----\n",
      "        This algorithm [2]_ runs in $O(n^2)$ time.  For sparse graphs (that is, for\n",
      "        small values of $p$), :func:`fast_gnp_random_graph` is a faster algorithm.\n",
      "        \n",
      "        :func:`binomial_graph` and :func:`erdos_renyi_graph` are\n",
      "        aliases for :func:`gnp_random_graph`.\n",
      "        \n",
      "        >>> nx.binomial_graph is nx.gnp_random_graph\n",
      "        True\n",
      "        >>> nx.erdos_renyi_graph is nx.gnp_random_graph\n",
      "        True\n",
      "        \n",
      "        References\n",
      "        ----------\n",
      "        .. [1] P. Erdős and A. Rényi, On Random Graphs, Publ. Math. 6, 290 (1959).\n",
      "        .. [2] E. N. Gilbert, Random Graphs, Ann. Math. Stat., 30, 1141 (1959).\n",
      "    \n",
      "    connected_watts_strogatz_graph(n, k, p, tries=100, seed=None)\n",
      "        Returns a connected Watts–Strogatz small-world graph.\n",
      "        \n",
      "        Attempts to generate a connected graph by repeated generation of\n",
      "        Watts–Strogatz small-world graphs.  An exception is raised if the maximum\n",
      "        number of tries is exceeded.\n",
      "        \n",
      "        Parameters\n",
      "        ----------\n",
      "        n : int\n",
      "            The number of nodes\n",
      "        k : int\n",
      "            Each node is joined with its `k` nearest neighbors in a ring\n",
      "            topology.\n",
      "        p : float\n",
      "            The probability of rewiring each edge\n",
      "        tries : int\n",
      "            Number of attempts to generate a connected graph.\n",
      "        seed : integer, random_state, or None (default)\n",
      "            Indicator of random number generation state.\n",
      "            See :ref:`Randomness<randomness>`.\n",
      "        \n",
      "        Notes\n",
      "        -----\n",
      "        First create a ring over $n$ nodes [1]_.  Then each node in the ring is joined\n",
      "        to its $k$ nearest neighbors (or $k - 1$ neighbors if $k$ is odd).\n",
      "        Then shortcuts are created by replacing some edges as follows: for each\n",
      "        edge $(u, v)$ in the underlying \"$n$-ring with $k$ nearest neighbors\"\n",
      "        with probability $p$ replace it with a new edge $(u, w)$ with uniformly\n",
      "        random choice of existing node $w$.\n",
      "        The entire process is repeated until a connected graph results.\n",
      "        \n",
      "        See Also\n",
      "        --------\n",
      "        newman_watts_strogatz_graph()\n",
      "        watts_strogatz_graph()\n",
      "        \n",
      "        References\n",
      "        ----------\n",
      "        .. [1] Duncan J. Watts and Steven H. Strogatz,\n",
      "           Collective dynamics of small-world networks,\n",
      "           Nature, 393, pp. 440--442, 1998.\n",
      "    \n",
      "    dense_gnm_random_graph(n, m, seed=None)\n",
      "        Returns a $G_{n,m}$ random graph.\n",
      "        \n",
      "        In the $G_{n,m}$ model, a graph is chosen uniformly at random from the set\n",
      "        of all graphs with $n$ nodes and $m$ edges.\n",
      "        \n",
      "        This algorithm should be faster than :func:`gnm_random_graph` for dense\n",
      "        graphs.\n",
      "        \n",
      "        Parameters\n",
      "        ----------\n",
      "        n : int\n",
      "            The number of nodes.\n",
      "        m : int\n",
      "            The number of edges.\n",
      "        seed : integer, random_state, or None (default)\n",
      "            Indicator of random number generation state.\n",
      "            See :ref:`Randomness<randomness>`.\n",
      "        \n",
      "        See Also\n",
      "        --------\n",
      "        gnm_random_graph()\n",
      "        \n",
      "        Notes\n",
      "        -----\n",
      "        Algorithm by Keith M. Briggs Mar 31, 2006.\n",
      "        Inspired by Knuth's Algorithm S (Selection sampling technique),\n",
      "        in section 3.4.2 of [1]_.\n",
      "        \n",
      "        References\n",
      "        ----------\n",
      "        .. [1] Donald E. Knuth, The Art of Computer Programming,\n",
      "            Volume 2/Seminumerical algorithms, Third Edition, Addison-Wesley, 1997.\n",
      "    \n",
      "    dual_barabasi_albert_graph(n, m1, m2, p, seed=None)\n",
      "        Returns a random graph according to the dual Barabási–Albert preferential\n",
      "        attachment model.\n",
      "        \n",
      "        A graph of $n$ nodes is grown by attaching new nodes each with either $m_1$\n",
      "        edges (with probability $p$) or $m_2$ edges (with probability $1-p$) that\n",
      "        are preferentially attached to existing nodes with high degree.\n",
      "        \n",
      "        Parameters\n",
      "        ----------\n",
      "        n : int\n",
      "            Number of nodes\n",
      "        m1 : int\n",
      "            Number of edges to attach from a new node to existing nodes with probability $p$\n",
      "        m2 : int\n",
      "            Number of edges to attach from a new node to existing nodes with probability $1-p$\n",
      "        p : float\n",
      "            The probability of attaching $m_1$ edges (as opposed to $m_2$ edges)\n",
      "        seed : integer, random_state, or None (default)\n",
      "            Indicator of random number generation state.\n",
      "            See :ref:`Randomness<randomness>`.\n",
      "        \n",
      "        Returns\n",
      "        -------\n",
      "        G : Graph\n",
      "        \n",
      "        Raises\n",
      "        ------\n",
      "        NetworkXError\n",
      "            If `m1` and `m2` do not satisfy ``1 <= m1,m2 < n`` or `p` does not satisfy ``0 <= p <= 1``.\n",
      "        \n",
      "        References\n",
      "        ----------\n",
      "        .. [1] N. Moshiri \"The dual-Barabasi-Albert model\", arXiv:1810.10538.\n",
      "    \n",
      "    erdos_renyi_graph = gnp_random_graph(n, p, seed=None, directed=False)\n",
      "        Returns a $G_{n,p}$ random graph, also known as an Erdős-Rényi graph\n",
      "        or a binomial graph.\n",
      "        \n",
      "        The $G_{n,p}$ model chooses each of the possible edges with probability $p$.\n",
      "        \n",
      "        Parameters\n",
      "        ----------\n",
      "        n : int\n",
      "            The number of nodes.\n",
      "        p : float\n",
      "            Probability for edge creation.\n",
      "        seed : integer, random_state, or None (default)\n",
      "            Indicator of random number generation state.\n",
      "            See :ref:`Randomness<randomness>`.\n",
      "        directed : bool, optional (default=False)\n",
      "            If True, this function returns a directed graph.\n",
      "        \n",
      "        See Also\n",
      "        --------\n",
      "        fast_gnp_random_graph\n",
      "        \n",
      "        Notes\n",
      "        -----\n",
      "        This algorithm [2]_ runs in $O(n^2)$ time.  For sparse graphs (that is, for\n",
      "        small values of $p$), :func:`fast_gnp_random_graph` is a faster algorithm.\n",
      "        \n",
      "        :func:`binomial_graph` and :func:`erdos_renyi_graph` are\n",
      "        aliases for :func:`gnp_random_graph`.\n",
      "        \n",
      "        >>> nx.binomial_graph is nx.gnp_random_graph\n",
      "        True\n",
      "        >>> nx.erdos_renyi_graph is nx.gnp_random_graph\n",
      "        True\n",
      "        \n",
      "        References\n",
      "        ----------\n",
      "        .. [1] P. Erdős and A. Rényi, On Random Graphs, Publ. Math. 6, 290 (1959).\n",
      "        .. [2] E. N. Gilbert, Random Graphs, Ann. Math. Stat., 30, 1141 (1959).\n",
      "    \n",
      "    extended_barabasi_albert_graph(n, m, p, q, seed=None)\n",
      "        Returns an extended Barabási–Albert model graph.\n",
      "        \n",
      "        An extended Barabási–Albert model graph is a random graph constructed\n",
      "        using preferential attachment. The extended model allows new edges,\n",
      "        rewired edges or new nodes. Based on the probabilities $p$ and $q$\n",
      "        with $p + q < 1$, the growing behavior of the graph is determined as:\n",
      "        \n",
      "        1) With $p$ probability, $m$ new edges are added to the graph,\n",
      "        starting from randomly chosen existing nodes and attached preferentially at the other end.\n",
      "        \n",
      "        2) With $q$ probability, $m$ existing edges are rewired\n",
      "        by randomly choosing an edge and rewiring one end to a preferentially chosen node.\n",
      "        \n",
      "        3) With $(1 - p - q)$ probability, $m$ new nodes are added to the graph\n",
      "        with edges attached preferentially.\n",
      "        \n",
      "        When $p = q = 0$, the model behaves just like the Barabási–Alber model.\n",
      "        \n",
      "        Parameters\n",
      "        ----------\n",
      "        n : int\n",
      "            Number of nodes\n",
      "        m : int\n",
      "            Number of edges with which a new node attaches to existing nodes\n",
      "        p : float\n",
      "            Probability value for adding an edge between existing nodes. p + q < 1\n",
      "        q : float\n",
      "            Probability value of rewiring of existing edges. p + q < 1\n",
      "        seed : integer, random_state, or None (default)\n",
      "            Indicator of random number generation state.\n",
      "            See :ref:`Randomness<randomness>`.\n",
      "        \n",
      "        Returns\n",
      "        -------\n",
      "        G : Graph\n",
      "        \n",
      "        Raises\n",
      "        ------\n",
      "        NetworkXError\n",
      "            If `m` does not satisfy ``1 <= m < n`` or ``1 >= p + q``\n",
      "        \n",
      "        References\n",
      "        ----------\n",
      "        .. [1] Albert, R., & Barabási, A. L. (2000)\n",
      "           Topology of evolving networks: local events and universality\n",
      "           Physical review letters, 85(24), 5234.\n",
      "    \n",
      "    fast_gnp_random_graph(n, p, seed=None, directed=False)\n",
      "        Returns a $G_{n,p}$ random graph, also known as an Erdős-Rényi graph or\n",
      "        a binomial graph.\n",
      "        \n",
      "        Parameters\n",
      "        ----------\n",
      "        n : int\n",
      "            The number of nodes.\n",
      "        p : float\n",
      "            Probability for edge creation.\n",
      "        seed : integer, random_state, or None (default)\n",
      "            Indicator of random number generation state.\n",
      "            See :ref:`Randomness<randomness>`.\n",
      "        directed : bool, optional (default=False)\n",
      "            If True, this function returns a directed graph.\n",
      "        \n",
      "        Notes\n",
      "        -----\n",
      "        The $G_{n,p}$ graph algorithm chooses each of the $[n (n - 1)] / 2$\n",
      "        (undirected) or $n (n - 1)$ (directed) possible edges with probability $p$.\n",
      "        \n",
      "        This algorithm [1]_ runs in $O(n + m)$ time, where `m` is the expected number of\n",
      "        edges, which equals $p n (n - 1) / 2$. This should be faster than\n",
      "        :func:`gnp_random_graph` when $p$ is small and the expected number of edges\n",
      "        is small (that is, the graph is sparse).\n",
      "        \n",
      "        See Also\n",
      "        --------\n",
      "        gnp_random_graph\n",
      "        \n",
      "        References\n",
      "        ----------\n",
      "        .. [1] Vladimir Batagelj and Ulrik Brandes,\n",
      "           \"Efficient generation of large random networks\",\n",
      "           Phys. Rev. E, 71, 036113, 2005.\n",
      "    \n",
      "    gnm_random_graph(n, m, seed=None, directed=False)\n",
      "        Returns a $G_{n,m}$ random graph.\n",
      "        \n",
      "        In the $G_{n,m}$ model, a graph is chosen uniformly at random from the set\n",
      "        of all graphs with $n$ nodes and $m$ edges.\n",
      "        \n",
      "        This algorithm should be faster than :func:`dense_gnm_random_graph` for\n",
      "        sparse graphs.\n",
      "        \n",
      "        Parameters\n",
      "        ----------\n",
      "        n : int\n",
      "            The number of nodes.\n",
      "        m : int\n",
      "            The number of edges.\n",
      "        seed : integer, random_state, or None (default)\n",
      "            Indicator of random number generation state.\n",
      "            See :ref:`Randomness<randomness>`.\n",
      "        directed : bool, optional (default=False)\n",
      "            If True return a directed graph\n",
      "        \n",
      "        See also\n",
      "        --------\n",
      "        dense_gnm_random_graph\n",
      "    \n",
      "    gnp_random_graph(n, p, seed=None, directed=False)\n",
      "        Returns a $G_{n,p}$ random graph, also known as an Erdős-Rényi graph\n",
      "        or a binomial graph.\n",
      "        \n",
      "        The $G_{n,p}$ model chooses each of the possible edges with probability $p$.\n",
      "        \n",
      "        Parameters\n",
      "        ----------\n",
      "        n : int\n",
      "            The number of nodes.\n",
      "        p : float\n",
      "            Probability for edge creation.\n",
      "        seed : integer, random_state, or None (default)\n",
      "            Indicator of random number generation state.\n",
      "            See :ref:`Randomness<randomness>`.\n",
      "        directed : bool, optional (default=False)\n",
      "            If True, this function returns a directed graph.\n",
      "        \n",
      "        See Also\n",
      "        --------\n",
      "        fast_gnp_random_graph\n",
      "        \n",
      "        Notes\n",
      "        -----\n",
      "        This algorithm [2]_ runs in $O(n^2)$ time.  For sparse graphs (that is, for\n",
      "        small values of $p$), :func:`fast_gnp_random_graph` is a faster algorithm.\n",
      "        \n",
      "        :func:`binomial_graph` and :func:`erdos_renyi_graph` are\n",
      "        aliases for :func:`gnp_random_graph`.\n",
      "        \n",
      "        >>> nx.binomial_graph is nx.gnp_random_graph\n",
      "        True\n",
      "        >>> nx.erdos_renyi_graph is nx.gnp_random_graph\n",
      "        True\n",
      "        \n",
      "        References\n",
      "        ----------\n",
      "        .. [1] P. Erdős and A. Rényi, On Random Graphs, Publ. Math. 6, 290 (1959).\n",
      "        .. [2] E. N. Gilbert, Random Graphs, Ann. Math. Stat., 30, 1141 (1959).\n",
      "    \n",
      "    newman_watts_strogatz_graph(n, k, p, seed=None)\n",
      "        Returns a Newman–Watts–Strogatz small-world graph.\n",
      "        \n",
      "        Parameters\n",
      "        ----------\n",
      "        n : int\n",
      "            The number of nodes.\n",
      "        k : int\n",
      "            Each node is joined with its `k` nearest neighbors in a ring\n",
      "            topology.\n",
      "        p : float\n",
      "            The probability of adding a new edge for each edge.\n",
      "        seed : integer, random_state, or None (default)\n",
      "            Indicator of random number generation state.\n",
      "            See :ref:`Randomness<randomness>`.\n",
      "        \n",
      "        Notes\n",
      "        -----\n",
      "        First create a ring over $n$ nodes [1]_.  Then each node in the ring is\n",
      "        connected with its $k$ nearest neighbors (or $k - 1$ neighbors if $k$\n",
      "        is odd).  Then shortcuts are created by adding new edges as follows: for\n",
      "        each edge $(u, v)$ in the underlying \"$n$-ring with $k$ nearest\n",
      "        neighbors\" with probability $p$ add a new edge $(u, w)$ with\n",
      "        randomly-chosen existing node $w$.  In contrast with\n",
      "        :func:`watts_strogatz_graph`, no edges are removed.\n",
      "        \n",
      "        See Also\n",
      "        --------\n",
      "        watts_strogatz_graph()\n",
      "        \n",
      "        References\n",
      "        ----------\n",
      "        .. [1] M. E. J. Newman and D. J. Watts,\n",
      "           Renormalization group analysis of the small-world network model,\n",
      "           Physics Letters A, 263, 341, 1999.\n",
      "           https://doi.org/10.1016/S0375-9601(99)00757-4\n",
      "    \n",
      "    powerlaw_cluster_graph(n, m, p, seed=None)\n",
      "        Holme and Kim algorithm for growing graphs with powerlaw\n",
      "        degree distribution and approximate average clustering.\n",
      "        \n",
      "        Parameters\n",
      "        ----------\n",
      "        n : int\n",
      "            the number of nodes\n",
      "        m : int\n",
      "            the number of random edges to add for each new node\n",
      "        p : float,\n",
      "            Probability of adding a triangle after adding a random edge\n",
      "        seed : integer, random_state, or None (default)\n",
      "            Indicator of random number generation state.\n",
      "            See :ref:`Randomness<randomness>`.\n",
      "        \n",
      "        Notes\n",
      "        -----\n",
      "        The average clustering has a hard time getting above a certain\n",
      "        cutoff that depends on `m`.  This cutoff is often quite low.  The\n",
      "        transitivity (fraction of triangles to possible triangles) seems to\n",
      "        decrease with network size.\n",
      "        \n",
      "        It is essentially the Barabási–Albert (BA) growth model with an\n",
      "        extra step that each random edge is followed by a chance of\n",
      "        making an edge to one of its neighbors too (and thus a triangle).\n",
      "        \n",
      "        This algorithm improves on BA in the sense that it enables a\n",
      "        higher average clustering to be attained if desired.\n",
      "        \n",
      "        It seems possible to have a disconnected graph with this algorithm\n",
      "        since the initial `m` nodes may not be all linked to a new node\n",
      "        on the first iteration like the BA model.\n",
      "        \n",
      "        Raises\n",
      "        ------\n",
      "        NetworkXError\n",
      "            If `m` does not satisfy ``1 <= m <= n`` or `p` does not\n",
      "            satisfy ``0 <= p <= 1``.\n",
      "        \n",
      "        References\n",
      "        ----------\n",
      "        .. [1] P. Holme and B. J. Kim,\n",
      "           \"Growing scale-free networks with tunable clustering\",\n",
      "           Phys. Rev. E, 65, 026107, 2002.\n",
      "    \n",
      "    random_kernel_graph(n, kernel_integral, kernel_root=None, seed=None)\n",
      "        Returns an random graph based on the specified kernel.\n",
      "        \n",
      "        The algorithm chooses each of the $[n(n-1)]/2$ possible edges with\n",
      "        probability specified by a kernel $\\kappa(x,y)$ [1]_.  The kernel\n",
      "        $\\kappa(x,y)$ must be a symmetric (in $x,y$), non-negative,\n",
      "        bounded function.\n",
      "        \n",
      "        Parameters\n",
      "        ----------\n",
      "        n : int\n",
      "            The number of nodes\n",
      "        kernal_integral : function\n",
      "            Function that returns the definite integral of the kernel $\\kappa(x,y)$,\n",
      "            $F(y,a,b) := \\int_a^b \\kappa(x,y)dx$\n",
      "        kernel_root: function (optional)\n",
      "            Function that returns the root $b$ of the equation $F(y,a,b) = r$.\n",
      "            If None, the root is found using :func:`scipy.optimize.brentq`\n",
      "            (this requires SciPy).\n",
      "        seed : integer, random_state, or None (default)\n",
      "            Indicator of random number generation state.\n",
      "            See :ref:`Randomness<randomness>`.\n",
      "        \n",
      "        Notes\n",
      "        -----\n",
      "        The kernel is specified through its definite integral which must be\n",
      "        provided as one of the arguments. If the integral and root of the\n",
      "        kernel integral can be found in $O(1)$ time then this algorithm runs in\n",
      "        time $O(n+m)$ where m is the expected number of edges [2]_.\n",
      "        \n",
      "        The nodes are set to integers from $0$ to $n-1$.\n",
      "        \n",
      "        Examples\n",
      "        --------\n",
      "        Generate an Erdős–Rényi random graph $G(n,c/n)$, with kernel\n",
      "        $\\kappa(x,y)=c$ where $c$ is the mean expected degree.\n",
      "        \n",
      "        >>> def integral(u, w, z):\n",
      "        ...     return c * (z - w)\n",
      "        >>> def root(u, w, r):\n",
      "        ...     return r / c + w\n",
      "        >>> c = 1\n",
      "        >>> graph = nx.random_kernel_graph(1000, integral, root)\n",
      "        \n",
      "        See Also\n",
      "        --------\n",
      "        gnp_random_graph\n",
      "        expected_degree_graph\n",
      "        \n",
      "        References\n",
      "        ----------\n",
      "        .. [1] Bollobás, Béla,  Janson, S. and Riordan, O.\n",
      "           \"The phase transition in inhomogeneous random graphs\",\n",
      "           *Random Structures Algorithms*, 31, 3--122, 2007.\n",
      "        \n",
      "        .. [2] Hagberg A, Lemons N (2015),\n",
      "           \"Fast Generation of Sparse Random Kernel Graphs\".\n",
      "           PLoS ONE 10(9): e0135177, 2015. doi:10.1371/journal.pone.0135177\n",
      "    \n",
      "    random_lobster(n, p1, p2, seed=None)\n",
      "        Returns a random lobster graph.\n",
      "        \n",
      "        A lobster is a tree that reduces to a caterpillar when pruning all\n",
      "        leaf nodes. A caterpillar is a tree that reduces to a path graph\n",
      "        when pruning all leaf nodes; setting `p2` to zero produces a caterpillar.\n",
      "        \n",
      "        This implementation iterates on the probabilities `p1` and `p2` to add\n",
      "        edges at levels 1 and 2, respectively. Graphs are therefore constructed\n",
      "        iteratively with uniform randomness at each level rather than being selected\n",
      "        uniformly at random from the set of all possible lobsters.\n",
      "        \n",
      "        Parameters\n",
      "        ----------\n",
      "        n : int\n",
      "            The expected number of nodes in the backbone\n",
      "        p1 : float\n",
      "            Probability of adding an edge to the backbone\n",
      "        p2 : float\n",
      "            Probability of adding an edge one level beyond backbone\n",
      "        seed : integer, random_state, or None (default)\n",
      "            Indicator of random number generation state.\n",
      "            See :ref:`Randomness<randomness>`.\n",
      "        \n",
      "        Raises\n",
      "        ------\n",
      "        NetworkXError\n",
      "            If `p1` or `p2` parameters are >= 1 because the while loops would never finish.\n",
      "    \n",
      "    random_powerlaw_tree(n, gamma=3, seed=None, tries=100)\n",
      "        Returns a tree with a power law degree distribution.\n",
      "        \n",
      "        Parameters\n",
      "        ----------\n",
      "        n : int\n",
      "            The number of nodes.\n",
      "        gamma : float\n",
      "            Exponent of the power law.\n",
      "        seed : integer, random_state, or None (default)\n",
      "            Indicator of random number generation state.\n",
      "            See :ref:`Randomness<randomness>`.\n",
      "        tries : int\n",
      "            Number of attempts to adjust the sequence to make it a tree.\n",
      "        \n",
      "        Raises\n",
      "        ------\n",
      "        NetworkXError\n",
      "            If no valid sequence is found within the maximum number of\n",
      "            attempts.\n",
      "        \n",
      "        Notes\n",
      "        -----\n",
      "        A trial power law degree sequence is chosen and then elements are\n",
      "        swapped with new elements from a powerlaw distribution until the\n",
      "        sequence makes a tree (by checking, for example, that the number of\n",
      "        edges is one smaller than the number of nodes).\n",
      "    \n",
      "    random_powerlaw_tree_sequence(n, gamma=3, seed=None, tries=100)\n",
      "        Returns a degree sequence for a tree with a power law distribution.\n",
      "        \n",
      "        Parameters\n",
      "        ----------\n",
      "        n : int,\n",
      "            The number of nodes.\n",
      "        gamma : float\n",
      "            Exponent of the power law.\n",
      "        seed : integer, random_state, or None (default)\n",
      "            Indicator of random number generation state.\n",
      "            See :ref:`Randomness<randomness>`.\n",
      "        tries : int\n",
      "            Number of attempts to adjust the sequence to make it a tree.\n",
      "        \n",
      "        Raises\n",
      "        ------\n",
      "        NetworkXError\n",
      "            If no valid sequence is found within the maximum number of\n",
      "            attempts.\n",
      "        \n",
      "        Notes\n",
      "        -----\n",
      "        A trial power law degree sequence is chosen and then elements are\n",
      "        swapped with new elements from a power law distribution until\n",
      "        the sequence makes a tree (by checking, for example, that the number of\n",
      "        edges is one smaller than the number of nodes).\n",
      "    \n",
      "    random_regular_graph(d, n, seed=None)\n",
      "        Returns a random $d$-regular graph on $n$ nodes.\n",
      "        \n",
      "        The resulting graph has no self-loops or parallel edges.\n",
      "        \n",
      "        Parameters\n",
      "        ----------\n",
      "        d : int\n",
      "          The degree of each node.\n",
      "        n : integer\n",
      "          The number of nodes. The value of $n \\times d$ must be even.\n",
      "        seed : integer, random_state, or None (default)\n",
      "            Indicator of random number generation state.\n",
      "            See :ref:`Randomness<randomness>`.\n",
      "        \n",
      "        Notes\n",
      "        -----\n",
      "        The nodes are numbered from $0$ to $n - 1$.\n",
      "        \n",
      "        Kim and Vu's paper [2]_ shows that this algorithm samples in an\n",
      "        asymptotically uniform way from the space of random graphs when\n",
      "        $d = O(n^{1 / 3 - \\epsilon})$.\n",
      "        \n",
      "        Raises\n",
      "        ------\n",
      "        \n",
      "        NetworkXError\n",
      "            If $n \\times d$ is odd or $d$ is greater than or equal to $n$.\n",
      "        \n",
      "        References\n",
      "        ----------\n",
      "        .. [1] A. Steger and N. Wormald,\n",
      "           Generating random regular graphs quickly,\n",
      "           Probability and Computing 8 (1999), 377-396, 1999.\n",
      "           http://citeseer.ist.psu.edu/steger99generating.html\n",
      "        \n",
      "        .. [2] Jeong Han Kim and Van H. Vu,\n",
      "           Generating random regular graphs,\n",
      "           Proceedings of the thirty-fifth ACM symposium on Theory of computing,\n",
      "           San Diego, CA, USA, pp 213--222, 2003.\n",
      "           http://portal.acm.org/citation.cfm?id=780542.780576\n",
      "    \n",
      "    random_shell_graph(constructor, seed=None)\n",
      "        Returns a random shell graph for the constructor given.\n",
      "        \n",
      "        Parameters\n",
      "        ----------\n",
      "        constructor : list of three-tuples\n",
      "            Represents the parameters for a shell, starting at the center\n",
      "            shell.  Each element of the list must be of the form `(n, m,\n",
      "            d)`, where `n` is the number of nodes in the shell, `m` is\n",
      "            the number of edges in the shell, and `d` is the ratio of\n",
      "            inter-shell (next) edges to intra-shell edges. If `d` is zero,\n",
      "            there will be no intra-shell edges, and if `d` is one there\n",
      "            will be all possible intra-shell edges.\n",
      "        seed : integer, random_state, or None (default)\n",
      "            Indicator of random number generation state.\n",
      "            See :ref:`Randomness<randomness>`.\n",
      "        \n",
      "        Examples\n",
      "        --------\n",
      "        >>> constructor = [(10, 20, 0.8), (20, 40, 0.8)]\n",
      "        >>> G = nx.random_shell_graph(constructor)\n",
      "    \n",
      "    watts_strogatz_graph(n, k, p, seed=None)\n",
      "        Returns a Watts–Strogatz small-world graph.\n",
      "        \n",
      "        Parameters\n",
      "        ----------\n",
      "        n : int\n",
      "            The number of nodes\n",
      "        k : int\n",
      "            Each node is joined with its `k` nearest neighbors in a ring\n",
      "            topology.\n",
      "        p : float\n",
      "            The probability of rewiring each edge\n",
      "        seed : integer, random_state, or None (default)\n",
      "            Indicator of random number generation state.\n",
      "            See :ref:`Randomness<randomness>`.\n",
      "        \n",
      "        See Also\n",
      "        --------\n",
      "        newman_watts_strogatz_graph()\n",
      "        connected_watts_strogatz_graph()\n",
      "        \n",
      "        Notes\n",
      "        -----\n",
      "        First create a ring over $n$ nodes [1]_.  Then each node in the ring is joined\n",
      "        to its $k$ nearest neighbors (or $k - 1$ neighbors if $k$ is odd).\n",
      "        Then shortcuts are created by replacing some edges as follows: for each\n",
      "        edge $(u, v)$ in the underlying \"$n$-ring with $k$ nearest neighbors\"\n",
      "        with probability $p$ replace it with a new edge $(u, w)$ with uniformly\n",
      "        random choice of existing node $w$.\n",
      "        \n",
      "        In contrast with :func:`newman_watts_strogatz_graph`, the random rewiring\n",
      "        does not increase the number of edges. The rewired graph is not guaranteed\n",
      "        to be connected as in :func:`connected_watts_strogatz_graph`.\n",
      "        \n",
      "        References\n",
      "        ----------\n",
      "        .. [1] Duncan J. Watts and Steven H. Strogatz,\n",
      "           Collective dynamics of small-world networks,\n",
      "           Nature, 393, pp. 440--442, 1998.\n",
      "\n",
      "DATA\n",
      "    __all__ = ['fast_gnp_random_graph', 'gnp_random_graph', 'dense_gnm_ran...\n",
      "\n",
      "FILE\n",
      "    /opt/anaconda3/lib/python3.8/site-packages/networkx/generators/random_graphs.py\n",
      "\n",
      "\n"
     ]
    }
   ],
   "source": [
    "help(nx.random_graphs)"
   ]
  },
  {
   "cell_type": "markdown",
   "id": "precious-advertising",
   "metadata": {},
   "source": [
    "## igraph"
   ]
  },
  {
   "cell_type": "markdown",
   "id": "golden-arrow",
   "metadata": {},
   "source": [
    "As per their [website](https://igraph.org) - \"igraph is a collection of network analysis tools with the emphasis on efficiency, portability, and ease of use.\""
   ]
  },
  {
   "cell_type": "code",
   "execution_count": 27,
   "id": "italian-communist",
   "metadata": {},
   "outputs": [],
   "source": [
    "import igraph"
   ]
  },
  {
   "cell_type": "markdown",
   "id": "simplified-mistake",
   "metadata": {},
   "source": [
    "### Erdős-Rényi Random Graphs\n",
    "\n",
    "In igraph, random graphs are generated using methods of the generic Graph class.\n",
    "\n",
    "To generate an Erdős-Rényi random graph, we use the function `Erdos_Renyi`. \n",
    "\n",
    "The parameter $n$ specifies the number of nodes in the graph. The parameter $p$ specifies the probability that each possible edge is included in the graph. "
   ]
  },
  {
   "cell_type": "code",
   "execution_count": 43,
   "id": "architectural-leeds",
   "metadata": {},
   "outputs": [],
   "source": [
    "g = igraph.Graph.Erdos_Renyi(n=10, p=0.25)"
   ]
  },
  {
   "cell_type": "markdown",
   "id": "intended-metallic",
   "metadata": {},
   "source": [
    "We can see the list of nodes (which are called vertrices in igraph parlance) in the graph by using the function `g.vs`. This retuns a `VertexSeq` object. A `VertexSeq` is similar to a `list` in that it allows random access to the nodes of the graph via index."
   ]
  },
  {
   "cell_type": "code",
   "execution_count": 48,
   "id": "regulation-fighter",
   "metadata": {},
   "outputs": [
    {
     "name": "stdout",
     "output_type": "stream",
     "text": [
      "<igraph.VertexSeq object at 0x7fef96cc4a90>\n"
     ]
    }
   ],
   "source": [
    "vs = g.vs()\n",
    "print(vs)"
   ]
  },
  {
   "cell_type": "code",
   "execution_count": 50,
   "id": "graduate-surrey",
   "metadata": {},
   "outputs": [
    {
     "name": "stdout",
     "output_type": "stream",
     "text": [
      "igraph.Vertex(<igraph.Graph object at 0x7fef968d1a90>, 3, {})\n"
     ]
    }
   ],
   "source": [
    "print(vs[3])"
   ]
  },
  {
   "cell_type": "markdown",
   "id": "visible-garlic",
   "metadata": {},
   "source": [
    "We can also cast a `VertexSeq` into another container type as needed."
   ]
  },
  {
   "cell_type": "code",
   "execution_count": 51,
   "id": "valid-superior",
   "metadata": {},
   "outputs": [
    {
     "data": {
      "text/plain": [
       "[igraph.Vertex(<igraph.Graph object at 0x7fef968d1a90>, 0, {}),\n",
       " igraph.Vertex(<igraph.Graph object at 0x7fef968d1a90>, 1, {}),\n",
       " igraph.Vertex(<igraph.Graph object at 0x7fef968d1a90>, 2, {}),\n",
       " igraph.Vertex(<igraph.Graph object at 0x7fef968d1a90>, 3, {}),\n",
       " igraph.Vertex(<igraph.Graph object at 0x7fef968d1a90>, 4, {}),\n",
       " igraph.Vertex(<igraph.Graph object at 0x7fef968d1a90>, 5, {}),\n",
       " igraph.Vertex(<igraph.Graph object at 0x7fef968d1a90>, 6, {}),\n",
       " igraph.Vertex(<igraph.Graph object at 0x7fef968d1a90>, 7, {}),\n",
       " igraph.Vertex(<igraph.Graph object at 0x7fef968d1a90>, 8, {}),\n",
       " igraph.Vertex(<igraph.Graph object at 0x7fef968d1a90>, 9, {})]"
      ]
     },
     "execution_count": 51,
     "metadata": {},
     "output_type": "execute_result"
    }
   ],
   "source": [
    "list(vs)"
   ]
  },
  {
   "cell_type": "markdown",
   "id": "north-jacksonville",
   "metadata": {},
   "source": [
    "We can see the nodes in a graph by using the function `g.es`. This returns an `EgdeSeq` object."
   ]
  },
  {
   "cell_type": "code",
   "execution_count": 53,
   "id": "continuous-baptist",
   "metadata": {},
   "outputs": [
    {
     "name": "stdout",
     "output_type": "stream",
     "text": [
      "[igraph.Edge(<igraph.Graph object at 0x7fef968d1a90>, 0, {}), igraph.Edge(<igraph.Graph object at 0x7fef968d1a90>, 1, {}), igraph.Edge(<igraph.Graph object at 0x7fef968d1a90>, 2, {}), igraph.Edge(<igraph.Graph object at 0x7fef968d1a90>, 3, {}), igraph.Edge(<igraph.Graph object at 0x7fef968d1a90>, 4, {}), igraph.Edge(<igraph.Graph object at 0x7fef968d1a90>, 5, {}), igraph.Edge(<igraph.Graph object at 0x7fef968d1a90>, 6, {}), igraph.Edge(<igraph.Graph object at 0x7fef968d1a90>, 7, {}), igraph.Edge(<igraph.Graph object at 0x7fef968d1a90>, 8, {}), igraph.Edge(<igraph.Graph object at 0x7fef968d1a90>, 9, {}), igraph.Edge(<igraph.Graph object at 0x7fef968d1a90>, 10, {})]\n"
     ]
    }
   ],
   "source": [
    "es = g.es()\n",
    "print(list(es))"
   ]
  },
  {
   "cell_type": "markdown",
   "id": "temporal-entrance",
   "metadata": {},
   "source": [
    "The function `igraph.Erdos_Renyi` can be used to generate random graphs from the $G(n,m)$ model as well.\n",
    "\n",
    "In the case of a $G(n,m)$ graph, the parameter $m$ specifies the number of edges in the graph."
   ]
  },
  {
   "cell_type": "code",
   "execution_count": 55,
   "id": "infectious-criminal",
   "metadata": {},
   "outputs": [],
   "source": [
    "g = igraph.Graph.Erdos_Renyi(n=10, m=5)"
   ]
  },
  {
   "cell_type": "code",
   "execution_count": 57,
   "id": "original-decline",
   "metadata": {},
   "outputs": [
    {
     "name": "stdout",
     "output_type": "stream",
     "text": [
      "[igraph.Vertex(<igraph.Graph object at 0x7fef95b34a90>, 0, {}), igraph.Vertex(<igraph.Graph object at 0x7fef95b34a90>, 1, {}), igraph.Vertex(<igraph.Graph object at 0x7fef95b34a90>, 2, {}), igraph.Vertex(<igraph.Graph object at 0x7fef95b34a90>, 3, {}), igraph.Vertex(<igraph.Graph object at 0x7fef95b34a90>, 4, {}), igraph.Vertex(<igraph.Graph object at 0x7fef95b34a90>, 5, {}), igraph.Vertex(<igraph.Graph object at 0x7fef95b34a90>, 6, {}), igraph.Vertex(<igraph.Graph object at 0x7fef95b34a90>, 7, {}), igraph.Vertex(<igraph.Graph object at 0x7fef95b34a90>, 8, {}), igraph.Vertex(<igraph.Graph object at 0x7fef95b34a90>, 9, {})]\n"
     ]
    }
   ],
   "source": [
    "print(list(g.vs()))"
   ]
  },
  {
   "cell_type": "code",
   "execution_count": 58,
   "id": "included-audience",
   "metadata": {},
   "outputs": [
    {
     "name": "stdout",
     "output_type": "stream",
     "text": [
      "[igraph.Edge(<igraph.Graph object at 0x7fef95b34a90>, 0, {}), igraph.Edge(<igraph.Graph object at 0x7fef95b34a90>, 1, {}), igraph.Edge(<igraph.Graph object at 0x7fef95b34a90>, 2, {}), igraph.Edge(<igraph.Graph object at 0x7fef95b34a90>, 3, {}), igraph.Edge(<igraph.Graph object at 0x7fef95b34a90>, 4, {})]\n"
     ]
    }
   ],
   "source": [
    "print(list(g.es()))"
   ]
  },
  {
   "cell_type": "markdown",
   "id": "suburban-acting",
   "metadata": {},
   "source": [
    "### Barabási-Albert Random Graphs "
   ]
  },
  {
   "cell_type": "markdown",
   "id": "surgical-saudi",
   "metadata": {},
   "source": [
    "We can generate graphs from the Barabási-Albert model by using the function `Barabasi`. As with NetworkX, there are two parameters. The first parameter $n$ specifies how many nodes will be in the graph. The second parameter $m$ describes how many of the existing nodes each new node will be connected to via an edge."
   ]
  },
  {
   "cell_type": "code",
   "execution_count": 65,
   "id": "compressed-planning",
   "metadata": {},
   "outputs": [],
   "source": [
    "g = igraph.Graph.Barabasi(10, 5)"
   ]
  },
  {
   "cell_type": "code",
   "execution_count": 66,
   "id": "future-protocol",
   "metadata": {},
   "outputs": [
    {
     "name": "stdout",
     "output_type": "stream",
     "text": [
      "[igraph.Vertex(<igraph.Graph object at 0x7fef96c0e9a0>, 0, {}), igraph.Vertex(<igraph.Graph object at 0x7fef96c0e9a0>, 1, {}), igraph.Vertex(<igraph.Graph object at 0x7fef96c0e9a0>, 2, {}), igraph.Vertex(<igraph.Graph object at 0x7fef96c0e9a0>, 3, {}), igraph.Vertex(<igraph.Graph object at 0x7fef96c0e9a0>, 4, {}), igraph.Vertex(<igraph.Graph object at 0x7fef96c0e9a0>, 5, {}), igraph.Vertex(<igraph.Graph object at 0x7fef96c0e9a0>, 6, {}), igraph.Vertex(<igraph.Graph object at 0x7fef96c0e9a0>, 7, {}), igraph.Vertex(<igraph.Graph object at 0x7fef96c0e9a0>, 8, {}), igraph.Vertex(<igraph.Graph object at 0x7fef96c0e9a0>, 9, {})]\n"
     ]
    }
   ],
   "source": [
    "print(list(g.vs()))"
   ]
  },
  {
   "cell_type": "code",
   "execution_count": 68,
   "id": "sealed-booth",
   "metadata": {},
   "outputs": [
    {
     "name": "stdout",
     "output_type": "stream",
     "text": [
      "[igraph.Edge(<igraph.Graph object at 0x7fef96c0e9a0>, 0, {}), igraph.Edge(<igraph.Graph object at 0x7fef96c0e9a0>, 1, {}), igraph.Edge(<igraph.Graph object at 0x7fef96c0e9a0>, 2, {}), igraph.Edge(<igraph.Graph object at 0x7fef96c0e9a0>, 3, {}), igraph.Edge(<igraph.Graph object at 0x7fef96c0e9a0>, 4, {}), igraph.Edge(<igraph.Graph object at 0x7fef96c0e9a0>, 5, {}), igraph.Edge(<igraph.Graph object at 0x7fef96c0e9a0>, 6, {}), igraph.Edge(<igraph.Graph object at 0x7fef96c0e9a0>, 7, {}), igraph.Edge(<igraph.Graph object at 0x7fef96c0e9a0>, 8, {}), igraph.Edge(<igraph.Graph object at 0x7fef96c0e9a0>, 9, {}), igraph.Edge(<igraph.Graph object at 0x7fef96c0e9a0>, 10, {}), igraph.Edge(<igraph.Graph object at 0x7fef96c0e9a0>, 11, {}), igraph.Edge(<igraph.Graph object at 0x7fef96c0e9a0>, 12, {}), igraph.Edge(<igraph.Graph object at 0x7fef96c0e9a0>, 13, {}), igraph.Edge(<igraph.Graph object at 0x7fef96c0e9a0>, 14, {}), igraph.Edge(<igraph.Graph object at 0x7fef96c0e9a0>, 15, {}), igraph.Edge(<igraph.Graph object at 0x7fef96c0e9a0>, 16, {}), igraph.Edge(<igraph.Graph object at 0x7fef96c0e9a0>, 17, {}), igraph.Edge(<igraph.Graph object at 0x7fef96c0e9a0>, 18, {}), igraph.Edge(<igraph.Graph object at 0x7fef96c0e9a0>, 19, {}), igraph.Edge(<igraph.Graph object at 0x7fef96c0e9a0>, 20, {}), igraph.Edge(<igraph.Graph object at 0x7fef96c0e9a0>, 21, {}), igraph.Edge(<igraph.Graph object at 0x7fef96c0e9a0>, 22, {}), igraph.Edge(<igraph.Graph object at 0x7fef96c0e9a0>, 23, {}), igraph.Edge(<igraph.Graph object at 0x7fef96c0e9a0>, 24, {}), igraph.Edge(<igraph.Graph object at 0x7fef96c0e9a0>, 25, {}), igraph.Edge(<igraph.Graph object at 0x7fef96c0e9a0>, 26, {}), igraph.Edge(<igraph.Graph object at 0x7fef96c0e9a0>, 27, {}), igraph.Edge(<igraph.Graph object at 0x7fef96c0e9a0>, 28, {}), igraph.Edge(<igraph.Graph object at 0x7fef96c0e9a0>, 29, {}), igraph.Edge(<igraph.Graph object at 0x7fef96c0e9a0>, 30, {}), igraph.Edge(<igraph.Graph object at 0x7fef96c0e9a0>, 31, {}), igraph.Edge(<igraph.Graph object at 0x7fef96c0e9a0>, 32, {}), igraph.Edge(<igraph.Graph object at 0x7fef96c0e9a0>, 33, {}), igraph.Edge(<igraph.Graph object at 0x7fef96c0e9a0>, 34, {})]\n"
     ]
    }
   ],
   "source": [
    "print(list(g.es()))"
   ]
  },
  {
   "cell_type": "markdown",
   "id": "complimentary-bulletin",
   "metadata": {},
   "source": [
    "### Other Random Graphs\n",
    "\n",
    "The chapter \"Graph Generation\" from the [igraph manual](https://igraph.org/python/doc/tutorial/generation.html) has a list of the graph generational algorithms via igraph."
   ]
  },
  {
   "cell_type": "code",
   "execution_count": null,
   "id": "associate-bride",
   "metadata": {},
   "outputs": [],
   "source": []
  }
 ],
 "metadata": {
  "kernelspec": {
   "display_name": "Python 3",
   "language": "python",
   "name": "python3"
  },
  "language_info": {
   "codemirror_mode": {
    "name": "ipython",
    "version": 3
   },
   "file_extension": ".py",
   "mimetype": "text/x-python",
   "name": "python",
   "nbconvert_exporter": "python",
   "pygments_lexer": "ipython3",
   "version": "3.8.5"
  }
 },
 "nbformat": 4,
 "nbformat_minor": 5
}
