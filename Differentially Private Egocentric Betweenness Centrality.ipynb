{
 "cells": [
  {
   "cell_type": "markdown",
   "id": "upset-carter",
   "metadata": {},
   "source": [
    "# Differentially Private Egocentric Betweenness Centrality\n",
    "Reference implementations of techniques described in the paper [Differentially-Private Two-Party Egocentric Betweenness Centrality](https://arxiv.org/pdf/1901.05562.pdf) by Leyla Roohi, Benjamin I.P. Rubinstein, and Vanessa Teague.\n",
    "\n",
    "In the paper, the authors descirbe an algorithm to compute a differentially private estimate of the egocentric betweenness centrality (EBC) of a node in a graph. Their algorithm is based on a non-private algorithm that splits the required computations between two players. To make this algorithm differentially private, they use standard differentially private release mechanisms to perturb each message that the players send to one another.\n",
    "\n",
    "Below, we provide an implementation of both the non-private and the differentially private version of the EBC algorithm the authors describe.\n",
    "\n",
    "Here we assume that two players, $X$ and $Y$, have partial knowledge of a graph.  Every node in the graph belongs to one of two vertex sets, $V_X$ and $V_Y$. Both players have full knowledge of both vertex sets.\n",
    "\n",
    "Every edge in the graph belongs to one of three edge sets: $E_X$, $E_Y$, and $E_{XY}$.\n",
    "\n",
    "  - The edges in $E_X$ connect two nodes in $V_X$. Only player $X$ knows $E_X$\n",
    "  - The edges in $E_Y$ connect two nodes in $V_Y$. Only player $Y$ knows $E_Y$.\n",
    "  - The edges in $E_{XY}$ connect a node in $V_X$ to a node in $V_Y$. Both players know $E_{XY}$.\n",
    "  \n",
    "Using their partial information about the underlying graph, the two players will collaborate to compute the egocentric betweenness centrality of a node $a \\in V_X$."
   ]
  },
  {
   "cell_type": "markdown",
   "id": "supported-visibility",
   "metadata": {},
   "source": [
    "## Library Imports\n",
    "We will use the graph algorithms provided by the networkx package to perform the required graph manipulations."
   ]
  },
  {
   "cell_type": "code",
   "execution_count": 1,
   "id": "ultimate-hollow",
   "metadata": {},
   "outputs": [],
   "source": [
    "import random\n",
    "import numpy as np\n",
    "import networkx as nx\n",
    "\n",
    "from itertools import combinations, product\n",
    "from collections import Counter"
   ]
  },
  {
   "cell_type": "markdown",
   "id": "loaded-shaft",
   "metadata": {},
   "source": [
    "## Ground Truth Algorithm\n",
    "\n",
    "This algorithm is a quick way to compute the EBC of a node. It uses the algorithm provided by networkx to compute the (regular) betweenness centrality of each node in a graph. We will use this algorithm as a basis for comparison to verify that our implementation of the non-private version of the EBC algorithm described is correct."
   ]
  },
  {
   "cell_type": "code",
   "execution_count": 2,
   "id": "appropriate-bridal",
   "metadata": {},
   "outputs": [],
   "source": [
    "def egocentric_betweenness_centrality(a, g):\n",
    "    neighbors = g.neighbors(a)\n",
    "    g2 = g.subgraph(list(neighbors) + [a])\n",
    "    ebc = nx.betweenness_centrality(g2, normalized=False)\n",
    "    return ebc[a]"
   ]
  },
  {
   "cell_type": "markdown",
   "id": "finnish-produce",
   "metadata": {},
   "source": [
    "## Generate a Random Graph \n",
    "Here we generate a random graph to use both for testing purposes and to evaluate the utility that the differentially private version of the algorithm can provide."
   ]
  },
  {
   "cell_type": "code",
   "execution_count": 3,
   "id": "neutral-services",
   "metadata": {},
   "outputs": [],
   "source": [
    "n = 10000\n",
    "p = 0.001\n",
    "g = nx.gnp_random_graph(n, p)"
   ]
  },
  {
   "cell_type": "code",
   "execution_count": 4,
   "id": "alpha-auckland",
   "metadata": {},
   "outputs": [],
   "source": [
    "# These are the sets of vertices in the each player's network.\n",
    "Vx = set(np.random.choice(np.arange(n), replace=False, size=n//2))\n",
    "Vy = set(np.arange(n)).difference(Vx)"
   ]
  },
  {
   "cell_type": "code",
   "execution_count": 5,
   "id": "frequent-handling",
   "metadata": {},
   "outputs": [],
   "source": [
    "# A is the point for which we want to compute the EBC.\n",
    "a = random.choice(list(Vx)) # We require that a is in X."
   ]
  },
  {
   "cell_type": "code",
   "execution_count": 6,
   "id": "lightweight-mapping",
   "metadata": {},
   "outputs": [],
   "source": [
    "# These are the sets of edges in the combined graph.\n",
    "Ex = set(g.subgraph(Vx).edges())\n",
    "Ey = set(g.subgraph(Vy).edges())\n",
    "Exy = set(g.edges()).difference(Ex.union(Ey))"
   ]
  },
  {
   "cell_type": "markdown",
   "id": "collectible-collectible",
   "metadata": {},
   "source": [
    "## Warm-Up: A Non-Private Protocol\n",
    "\n",
    "The non-private protocol described in this section can be used to compute the exact EBC for a node in the graph. Each player uses the information available to them to compute their contribution to the final computation."
   ]
  },
  {
   "cell_type": "code",
   "execution_count": 7,
   "id": "meaning-humidity",
   "metadata": {},
   "outputs": [],
   "source": [
    "def compute_R_star(a, Vx, Vy, Ex, Exy):\n",
    "    # Player X computes the set of nodes in V_X that are neighbors of a.\n",
    "    \n",
    "    h = nx.Graph(Ex.union(Exy))\n",
    "    neighbors = set(h.neighbors(a))\n",
    "    R_star = neighbors.intersection(Vx)\n",
    "    \n",
    "    return R_star"
   ]
  },
  {
   "cell_type": "code",
   "execution_count": 8,
   "id": "specialized-disabled",
   "metadata": {},
   "outputs": [],
   "source": [
    "def compute_Ty(a, Vx, Vy, Ey, Exy, R):\n",
    "    # Player Y computes their contribution to the quantity Sxy.\n",
    "    # To do so, they count the number of two-step paths between (i,j) where i is in Vx, j is in Vy\n",
    "    # and the intermediate point k is in Vy.\n",
    "\n",
    "    temp = nx.Graph(Exy)\n",
    "    Ny = {j for j in Vy if ((a,j) in temp.edges())}\n",
    "    neighbors = R.union(Ny)\n",
    "\n",
    "    h = nx.Graph(Ey.union(Exy))\n",
    "    h2 = h.subgraph(neighbors)\n",
    "    Ty = dict()\n",
    "    for i,j in product(Vx.intersection(neighbors), Vy.intersection(neighbors)):\n",
    "        if (i,j) not in h2.edges():\n",
    "            Ty[(i,j)] = 0                \n",
    "            for k in Vy.difference({j}).intersection(neighbors):\n",
    "                if ((i,k) in h2.edges()) and ((k,j) in h2.edges()):\n",
    "                    Ty[(i,j)] += 1\n",
    "    \n",
    "    return Ty"
   ]
  },
  {
   "cell_type": "code",
   "execution_count": 9,
   "id": "cordless-evidence",
   "metadata": {},
   "outputs": [],
   "source": [
    "def compute_Sy(a, Vx, Vy, Ey, Exy, R):\n",
    "    # Player Y computes the number of two-step paths between neighbors of a that involve only points of Vy.\n",
    "\n",
    "    temp = nx.Graph(Exy)\n",
    "    Ny = {j for j in Vy if ((a,j) in temp.edges())}\n",
    "    neighbors = R.union(Ny)\n",
    "\n",
    "    h = nx.Graph(Ey.union(Exy))\n",
    "    h2 = h.subgraph(neighbors)\n",
    "    T = dict()\n",
    "    for i,j in combinations(Vy.intersection(neighbors), 2):\n",
    "        if (i,j) not in h2.edges():\n",
    "            T[(i,j)] = 1\n",
    "            for k in neighbors.difference({(i,j)}):\n",
    "                if ((i,k) in h2.edges()) and ((k,j) in h2.edges()):\n",
    "                    T[(i,j)] += 1\n",
    "\n",
    "    values = np.array(list(T.values()))\n",
    "    Sy = np.sum(1/values)\n",
    "    \n",
    "    return Sy"
   ]
  },
  {
   "cell_type": "code",
   "execution_count": 10,
   "id": "fluid-mobile",
   "metadata": {},
   "outputs": [],
   "source": [
    "def compute_Sxy(a, Vx, Vy, Ex, Exy, Ty):\n",
    "    # Player X computes their contribution to Sxy and combines it with Player Y's contribution.\n",
    "    # To do so, they count the number of two-step paths between (i,j) where i is in Vx, j is in Vy\n",
    "    # and the intermediate point k is in Vx.\n",
    "\n",
    "\n",
    "    h = nx.Graph(Ex.union(Exy))\n",
    "    neighbors = set(g.neighbors(a))\n",
    "    \n",
    "    h2 = h.subgraph(neighbors)\n",
    "    Tx = dict()\n",
    "    for i,j in product(Vx.intersection(neighbors), Vy.intersection(neighbors)):\n",
    "        if (i,j) not in h2.edges():\n",
    "            Tx[(i,j)] = 1\n",
    "            for k in Vx.difference({i}).intersection(neighbors):\n",
    "                if ((i,k) in h2.edges()) and ((k,j) in h2.edges()):\n",
    "                    Tx[(i,j)] += 1\n",
    "    \n",
    "    # Recall that Player X knows all of the neighbors of a, but Player Y does not.\n",
    "    # So, Ty may have some keys for spurrious pairs (i,j).\n",
    "    # Player X knows that they do not need to use these in their computations.\n",
    "    # This is the optimization mentioned at the end of section V in the original paper.\n",
    "    \n",
    "    for k in Tx.keys():\n",
    "        if k in Ty:\n",
    "            Tx[k] += Ty[k]\n",
    "    values = np.array(list(Tx.values()))\n",
    "    \n",
    "    Sxy = np.sum(1/values)\n",
    "    \n",
    "    return Sxy"
   ]
  },
  {
   "cell_type": "code",
   "execution_count": 11,
   "id": "swiss-sphere",
   "metadata": {},
   "outputs": [],
   "source": [
    "def compute_Sx(a, Vx, Vy, Ex, Exy):\n",
    "    # Player X computes the number of two-step paths between neighbors of a that involve only points of Vx.\n",
    "\n",
    "    h = nx.Graph(Ex.union(Exy))\n",
    "    neighbors = set(h.neighbors(a))\n",
    " \n",
    "    h2 = h.subgraph(neighbors)\n",
    "    T = dict()\n",
    "    for i,j in combinations(Vx.intersection(neighbors), 2):\n",
    "        if (i,j) not in h2.edges():\n",
    "            T[(i,j)] = 1\n",
    "            for k in neighbors.difference({(i,j)}):\n",
    "                if ((i,k) in h2.edges()) and ((k,j) in h2.edges()):\n",
    "                    T[(i,j)] += 1\n",
    "\n",
    "    values = np.array(list(T.values()))\n",
    "    Sx = np.sum(1/values)\n",
    "    \n",
    "    return Sx"
   ]
  },
  {
   "cell_type": "code",
   "execution_count": 12,
   "id": "laughing-swift",
   "metadata": {},
   "outputs": [],
   "source": [
    "def nonprivate_protocol(a, Vx, Vy, Ex, Ey, Exy):\n",
    "    R_star = compute_R_star(a, Vx, Vy, Ex, Exy) # This is computed by Player X\n",
    "    \n",
    "    Ty = compute_Ty(a, Vx, Vy, Ey, Exy, R_star) # This is computed by Player Y\n",
    "    Sy = compute_Sy(a, Vx, Vy, Ey, Exy, R_star) # This is computed by Player Y\n",
    "    \n",
    "    Sxy = compute_Sxy(a, Vx, Vy, Ex, Exy, Ty)   # This is computed by Player X\n",
    "    Sx = compute_Sx(a, Vx, Vy, Ex, Exy)         # This is computed by Player X\n",
    "    \n",
    "    nonprivate_ebc = Sx + Sy + Sxy          # This is computed by Player X\n",
    "    \n",
    "    return nonprivate_ebc"
   ]
  },
  {
   "cell_type": "code",
   "execution_count": 13,
   "id": "structured-corporation",
   "metadata": {},
   "outputs": [
    {
     "name": "stdout",
     "output_type": "stream",
     "text": [
      "120.0\n"
     ]
    }
   ],
   "source": [
    "# Player X computes the EBC using the nonprivate protocol\n",
    "\n",
    "nonprivate_ebc = nonprivate_protocol(a, Vx, Vy, Ex, Ey, Exy)\n",
    "print(nonprivate_ebc)"
   ]
  },
  {
   "cell_type": "code",
   "execution_count": 14,
   "id": "scientific-ministry",
   "metadata": {},
   "outputs": [
    {
     "data": {
      "text/plain": [
       "120.0"
      ]
     },
     "execution_count": 14,
     "metadata": {},
     "output_type": "execute_result"
    }
   ],
   "source": [
    "# Compute the ebc in a simpler way to check our work.\n",
    "\n",
    "egocentric_betweenness_centrality(a,g)"
   ]
  },
  {
   "cell_type": "markdown",
   "id": "split-headquarters",
   "metadata": {},
   "source": [
    "## A Privacy-Preserving Protocol\n",
    "\n",
    "Here we augment the ingerdients that we used to compute the exact EBC with some differentially private release mechanisms.  This allows us to create a differentially-private release mechanism that produces differentially-private estimates of the EBC.\n",
    "\n",
    "We will use the implementation of the Laplace mechanism provided in the package [relm](https://github.com/anusii/RelM).\n",
    "\n",
    "We also use a version of the exponential mechanism described by the authors in the paper. We cannot easily use the standard exponential mechanism becuase we need to sample from a large state space and the naive mechanism cannot do so efficiently.  Instead, we implement the authors' suggested stratified sampling strategy sample from this state space."
   ]
  },
  {
   "cell_type": "code",
   "execution_count": null,
   "id": "recovered-ivory",
   "metadata": {},
   "outputs": [],
   "source": [
    "import relm"
   ]
  },
  {
   "cell_type": "code",
   "execution_count": null,
   "id": "plain-consent",
   "metadata": {},
   "outputs": [],
   "source": [
    "epsilon = 2**0"
   ]
  },
  {
   "cell_type": "code",
   "execution_count": null,
   "id": "powerful-combining",
   "metadata": {},
   "outputs": [],
   "source": [
    "def exponential_mechanism_with_stratified_sampling(a, Vx, Vy, Ex, Exy, R_star):\n",
    "    # Player X uses this to efficiently use the exponential mechanism to perturb the set\n",
    "    # of neighbors of a that he will send to Player Y.\n",
    "    sensitivity = 1\n",
    "    Nx = len(Vx) - 1\n",
    "\n",
    "    # Inverse Transform Sampler\n",
    "    log_probs = np.zeros(Nx+1)\n",
    "    log_probs[0] = -Nx * np.logaddexp(0, epsilon/(2*sensitivity))\n",
    "    for i in range(1, Nx+1):\n",
    "        log_probs[i] = np.log(Nx - i + 1) - np.log(i) + log_probs[i-1] + (epsilon / (2*sensitivity))\n",
    "\n",
    "    log_cdf = np.logaddexp.accumulate(log_probs)\n",
    "\n",
    "    U = np.random.random()\n",
    "    I = np.argmax(log_cdf >= np.log(U))\n",
    "\n",
    "    # Pick and Flip Sampler\n",
    "    R = R_star\n",
    "\n",
    "    vs = np.random.choice(list(Vx.difference({a})), size=Nx - I, replace=False)\n",
    "    for v in vs:\n",
    "        if v in R:\n",
    "            R.difference_update({v})\n",
    "        else:\n",
    "            R.update({v})\n",
    "            \n",
    "    return R"
   ]
  },
  {
   "cell_type": "code",
   "execution_count": null,
   "id": "subject-nudist",
   "metadata": {},
   "outputs": [],
   "source": [
    "def private_protocol(a, Vx, Vy, Ex, Ey, Exy):\n",
    "    # The two players collaborate to compute a differentially private estimate of the EBC of a.\n",
    "    # Note that at each step, one player performs a computation similar to that required in the\n",
    "    # exact (non-private) algorithm and then uses a differentially private release mechanism\n",
    "    # to perturb the result.\n",
    "    \n",
    "    # First Player X computes the forward message\n",
    "    R_star = compute_R_star(a, Vx, Vy, Ex, Exy)\n",
    "    # Player X uses the exponential mechanism to perturb the set of neighbors R_star\n",
    "    R = exponential_mechanism_with_stratified_sampling(a, Vx, Vy, Ex, Exy, R_star)\n",
    "    \n",
    "    # Next, Player Y computes the backwards messages\n",
    "    ## Player Y computes a nonprivate contribution to T\n",
    "    Ty_star = compute_Ty(a, Vx, Vy, Ey, Exy, R)          \n",
    "    ## Player Y uses the Laplace mechanism to perturb the Ty_star counts\n",
    "    laplace_mechanism = relm.mechanisms.LaplaceMechanism(epsilon / 2, sensitivity=2*len(R))\n",
    "    key_list = sorted(list(Ty_star.keys()))\n",
    "    value_array = np.array([Ty_star[k] for k in key_list], dtype=np.float64)\n",
    "    perturbed_value_array = laplace_mechanism.release(value_array)\n",
    "    Ty = {k: perturbed_value_array[i] for i,k in enumerate(key_list)}\n",
    "    \n",
    "    ## Player Y computes a nonprivate version of Sy\n",
    "    Sy_star = compute_Sy(a, Vx, Vy, Ey, Exy, R)\n",
    "    ## Player Y uses the Laplace mechanism to perturb Sy_star\n",
    "    temp = nx.Graph(Exy)\n",
    "    Ny = {j for j in Vy if ((a,j) in temp.edges())}\n",
    "    laplace_mechanism = relm.mechanisms.LaplaceMechanism(epsilon / 2, sensitivity = len(Ny) - 1)\n",
    "    Sy = laplace_mechanism.release(np.array([Sy_star]))[0]\n",
    "    \n",
    "    # Finally, Player X completes the computation of the private_ebc value for a.\n",
    "    Sxy = compute_Sxy(a, Vx, Vy, Ex, Exy, Ty)\n",
    "    Sx = compute_Sx(a, Vx, Vy, Ex, Exy)\n",
    "    private_ebc = Sx + Sy + Sxy\n",
    "    \n",
    "    return private_ebc"
   ]
  },
  {
   "cell_type": "code",
   "execution_count": null,
   "id": "talented-terror",
   "metadata": {},
   "outputs": [],
   "source": [
    "# Use the differentially private algorithm to compute an estimate of the EBC of a.\n",
    "\n",
    "private_ebc = private_protocol(a, Vx, Vy, Ex, Ey, Exy)\n",
    "print(private_ebc)"
   ]
  },
  {
   "cell_type": "code",
   "execution_count": null,
   "id": "eleven-benchmark",
   "metadata": {},
   "outputs": [],
   "source": [
    "# Compute the exact ebc in a simpler way to compare the two results.\n",
    "\n",
    "egocentric_betweenness_centrality(a,g)"
   ]
  },
  {
   "cell_type": "code",
   "execution_count": null,
   "id": "adult-novelty",
   "metadata": {},
   "outputs": [],
   "source": []
  }
 ],
 "metadata": {
  "kernelspec": {
   "display_name": "Python 3",
   "language": "python",
   "name": "python3"
  },
  "language_info": {
   "codemirror_mode": {
    "name": "ipython",
    "version": 3
   },
   "file_extension": ".py",
   "mimetype": "text/x-python",
   "name": "python",
   "nbconvert_exporter": "python",
   "pygments_lexer": "ipython3",
   "version": "3.8.5"
  }
 },
 "nbformat": 4,
 "nbformat_minor": 5
}
