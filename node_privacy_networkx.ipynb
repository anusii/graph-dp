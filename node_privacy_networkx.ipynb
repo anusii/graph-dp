{
 "cells": [
  {
   "cell_type": "markdown",
   "id": "boxed-worse",
   "metadata": {},
   "source": [
    "# Node Privacy\n",
    "Reference implementations of some of the techniques described in the paper\n",
    "[Analyzing Graphs with Node Differential Privacy](https://privacytools.seas.harvard.edu/files/privacytools/files/chp3a10.10072f978-3-642-36594-2_26.pdf)\n",
    "by Shiva Prasad Kasiviswanathan, Kobbi Nissim, Sofya Raskhodnikova, and Adam Smith."
   ]
  },
  {
   "cell_type": "markdown",
   "id": "advisory-vitamin",
   "metadata": {},
   "source": [
    "## Library Imports\n",
    "We use [networkx](https://networkx.org) to perform the required graph computations, [scipy](https://www.scipy.org) (in particular the optimisation algorithms provided by\n",
    "[scipy.optimize](https://docs.scipy.org/doc/scipy/reference/optimize.html))\n",
    "to solve the required optimisation problems, and the implementation of the Laplace mechanism provided by [RelM](https://github.com/anusii/RelM) to release the differentially private query responses."
   ]
  },
  {
   "cell_type": "code",
   "execution_count": 1,
   "id": "unlikely-newton",
   "metadata": {},
   "outputs": [],
   "source": [
    "import numpy as np\n",
    "import networkx as nx\n",
    "\n",
    "import scipy.optimize\n",
    "import scipy.interpolate\n",
    "import scipy.special\n",
    "\n",
    "from relm.mechanisms import LaplaceMechanism"
   ]
  },
  {
   "cell_type": "markdown",
   "id": "italic-distributor",
   "metadata": {},
   "source": [
    "<hr style=\"border:2px solid gray\"> </hr>"
   ]
  },
  {
   "cell_type": "markdown",
   "id": "alert-minnesota",
   "metadata": {},
   "source": [
    "## Convex Optimisation\n",
    "The authors describe an algorithm for computing a low-sensitivity approximation to queries which are linear in the degree distribution of a graph $G$. This algorithm involves solving a convex optimisation problem defined in terms of a flow graph derived from $G$. As such, we will call this algorithm the quasiflow approximation algorithm. This process is comprised of three steps:\n",
    "  1. Derive the appropriate flow graph from $G$,\n",
    "  2. Solve the required convex optimisation problem,\n",
    "  3. Add noise to the approximate query response scaled according to its sensitivity."
   ]
  },
  {
   "cell_type": "markdown",
   "id": "dying-toner",
   "metadata": {},
   "source": [
    "#### Generate a random graph"
   ]
  },
  {
   "cell_type": "code",
   "execution_count": 2,
   "id": "virgin-blond",
   "metadata": {},
   "outputs": [],
   "source": [
    "n = 2**7\n",
    "p = 2 ** -6\n",
    "G = nx.random_graphs.gnp_random_graph(n, p)"
   ]
  },
  {
   "cell_type": "markdown",
   "id": "going-antigua",
   "metadata": {},
   "source": [
    "### Compute the exact query responses\n",
    "The algorithm in question works for queries which are linear in the degree distribution of a graph. That is, queries which can be written as $$f(G) = \\sum_{v \\in G} h(\\text{deg}_v(G)$$ for some concave function $h$. Three examples of such queries are the number of edges in a graph $\\left(h(i) = i/2\\right)$, the number of nodes in a graph $\\left(h(i) = 1\\right)$, and the number of $k$-stars in a graph $\\left(h(i) = \\binom{i}{k}\\right)$."
   ]
  },
  {
   "cell_type": "code",
   "execution_count": 3,
   "id": "static-tulsa",
   "metadata": {},
   "outputs": [],
   "source": [
    "def exact_count(G, h):\n",
    "    \"\"\"\n",
    "    Compute the exact value of a query which is linear in the degree distribution of G\n",
    "    \n",
    "    Parameters:\n",
    "        G: An undirected graph\n",
    "        h: An array describing a query which is linear in the degree distribution of G\n",
    "        \n",
    "    Returns:\n",
    "        The exact value of the query evaluated on G.\n",
    "    \"\"\"\n",
    "    x = np.arange(len(h))\n",
    "    h_fun = scipy.interpolate.interp1d(x, h)\n",
    "    degree_histogram = np.array(nx.degree_histogram(G))\n",
    "    exact_count = degree_histogram @ h_fun(np.arange(len(degree_histogram)))\n",
    "    return exact_count"
   ]
  },
  {
   "cell_type": "markdown",
   "id": "unnecessary-travel",
   "metadata": {},
   "source": [
    "#### Compute the exact counts"
   ]
  },
  {
   "cell_type": "code",
   "execution_count": 4,
   "id": "appropriate-operator",
   "metadata": {},
   "outputs": [],
   "source": [
    "# Edge count\n",
    "h_edge = np.arange(n+1) / 2.0\n",
    "edge_count = exact_count(G, h_edge)\n",
    "\n",
    "# Node count\n",
    "h_node = np.ones(n+1)\n",
    "node_count = exact_count(G, h_node)\n",
    "\n",
    "# kstar count\n",
    "k = 3\n",
    "h_kstar = scipy.special.comb(np.arange(n+1), k)\n",
    "kstar_count = exact_count(G, h_kstar)"
   ]
  },
  {
   "cell_type": "markdown",
   "id": "broad-holder",
   "metadata": {},
   "source": [
    "### Build the flow graph\n",
    "The flow graph used in the quasiflow approximation algorithm is constructed by taking two copies each node in $G$, one labeled \"left\" and one labled \"right\". Each \"left\" copy is connected to a source node $s$ via an edge with capacity $D$. Each \"right\" copy is connected to a sink node $t$ via an edge with capacity $D$. Finally, each \"left\" node is connected to each \"right\" node via an edge with capacity 1."
   ]
  },
  {
   "cell_type": "code",
   "execution_count": 5,
   "id": "false-navigation",
   "metadata": {},
   "outputs": [],
   "source": [
    "def build_flow_graph(G, D):\n",
    "    \"\"\"\n",
    "    Build a flow graph for G\n",
    "    \n",
    "    Parameters:\n",
    "        G: An undirected graph\n",
    "        D: The capacity for edges between nodes of G and\n",
    "           the source/sink nodes in the flow graph\n",
    "           \n",
    "    Returns:\n",
    "        A flow graph whose max flow yields an approximate query response\n",
    "    \"\"\"\n",
    "    V_left = list(zip([\"left\"] * len(G), G.nodes()))\n",
    "    V_right = list(zip([\"right\"] * len(G), G.nodes()))\n",
    "    F = nx.DiGraph()\n",
    "    F.add_nodes_from(V_left)\n",
    "    F.add_nodes_from(V_right)\n",
    "    F.add_nodes_from(\"st\")\n",
    "    F.add_weighted_edges_from([(\"s\", vl, D) for vl in V_left], weight=\"capacity\")\n",
    "    F.add_weighted_edges_from([(vr, \"t\", D) for vr in V_right], weight=\"capacity\")\n",
    "    F.add_weighted_edges_from(\n",
    "        [((\"left\", u), (\"right\", v), 1) for u, v in G.edges()], weight=\"capacity\"\n",
    "    )\n",
    "    F.add_weighted_edges_from(\n",
    "        [((\"left\", v), (\"right\", u), 1) for u, v in G.edges()], weight=\"capacity\"\n",
    "    )\n",
    "    return F"
   ]
  },
  {
   "cell_type": "code",
   "execution_count": 6,
   "id": "breathing-franchise",
   "metadata": {},
   "outputs": [],
   "source": [
    "D = 2**3\n",
    "F = build_flow_graph(G, D)"
   ]
  },
  {
   "cell_type": "markdown",
   "id": "dutch-worry",
   "metadata": {},
   "source": [
    "### Solve the required convex optimisation problem\n",
    "The quasiflow approximation is the defined as the maximal value over all flows on the flow graph described above of the objective function $obj_h = \\sum_{v \\in V} h(\\text{Fl}(v))$ where $\\text{Fl}(v)$ is the units of flow passing from $s$ to the \"left\" copy of $v$ in the flow $\\text{Fl}$."
   ]
  },
  {
   "cell_type": "code",
   "execution_count": 7,
   "id": "mental-restriction",
   "metadata": {},
   "outputs": [],
   "source": [
    "def bounded_degree_quasiflow(F, h, D):\n",
    "    \"\"\"\n",
    "    Parameters:\n",
    "        G: An undirected graph\n",
    "        h: An array describing a query which is linear in the degree distribution of G\n",
    "        D: A bound on the capacities in the flow graph derived from G\n",
    "        \n",
    "    Returns:\n",
    "        The maximal value for \\max_{f \\in flows} \\sum{v \\in F} h(f(v))\n",
    "    \"\"\"\n",
    "    nodes = list(F.nodes())\n",
    "    edges = list(F.edges())\n",
    "    adjacency = np.zeros((len(nodes), len(edges)))\n",
    "    for j in range(len(edges)):\n",
    "        i0 = nodes.index(edges[j][0])\n",
    "        i1 = nodes.index(edges[j][1])\n",
    "        adjacency[i0, j] = -1\n",
    "        adjacency[i1, j] = 1\n",
    "\n",
    "    capacities = np.array([F.edges[e][\"capacity\"] for e in F.edges()])\n",
    "    x0 = np.random.random(capacities.size) * capacities\n",
    "    mask = np.array([(\"s\" in edge) for edge in edges])\n",
    "    bounds = [(0, capacity) for capacity in capacities]\n",
    "    constraint = scipy.optimize.LinearConstraint(adjacency[:-2], 0, 0)\n",
    "\n",
    "    x = np.arange(D + 1)\n",
    "    h_fun = scipy.interpolate.interp1d(x, h[:D+1])\n",
    "    f = lambda x, *args: -np.sum(h_fun(x[tuple(args[0])]))\n",
    "    res = scipy.optimize.minimize(\n",
    "        fun=f, x0=x0, args=[mask], bounds=bounds, constraints=[constraint]\n",
    "    )\n",
    "    return -res.fun"
   ]
  },
  {
   "cell_type": "code",
   "execution_count": 8,
   "id": "empirical-original",
   "metadata": {},
   "outputs": [],
   "source": [
    "# Edge count\n",
    "bd_quasiflow_edge = bounded_degree_quasiflow(F, h_edge, D)\n",
    "\n",
    "# Node count\n",
    "bd_quasiflow_node = bounded_degree_quasiflow(F, h_node, D)\n",
    "\n",
    "# kstar count\n",
    "bd_quasiflow_kstar = bounded_degree_quasiflow(F, h_kstar, D)"
   ]
  },
  {
   "cell_type": "markdown",
   "id": "experimental-representation",
   "metadata": {},
   "source": [
    "### Add noise scaled according to the sensitivity of the bounded-degree quasiflow\n",
    "We create a differentially private release mechanism by adding Laplace noise to the bouded-degree quasiflow computed above scaled according to its sensitivity. The sensitivity of the bounded-degree quasiflow is given by $\\lVert f \\rVert_{\\infty} + D\\lVert f^{\\prime} \\rVert_{\\infty}$ where $\\lVert f \\rVert_{\\infty} = \\max_{0 \\leq x \\leq D} h(x)$ and $\\lVert f^{\\prime} \\rVert_{\\infty} = \\max_{0 \\leq x < D} |h(x+1) - h(x)|$ is the Lipschitz coefficient of $h$ on $[0, D]$.\n",
    "\n",
    "Because the Laplace distributed random variables are real-valued, the differentially private query response will be real-valued despite the exact query response being integer-valued.\n"
   ]
  },
  {
   "cell_type": "code",
   "execution_count": 9,
   "id": "surprising-marathon",
   "metadata": {},
   "outputs": [],
   "source": [
    "# Create a differentially private release mechanism\n",
    "epsilon = 1.0\n",
    "\n",
    "# Edge count\n",
    "sensitivity_edge = np.max(h_edge[:(D+1)]) + np.max(h_edge[1:(D+1)] - h_edge[:D])\n",
    "mechanism_edge = LaplaceMechanism(epsilon=epsilon, sensitivity=sensitivity_edge)\n",
    "dp_edge_count = mechanism_edge.release(np.array([bd_quasiflow_edge]))\n",
    "\n",
    "# Node count\n",
    "sensitivity_node = np.max(h_node[:(D+1)]) + np.max(h_node[1:(D+1)] - h_node[:D])\n",
    "mechanism_node = LaplaceMechanism(epsilon=epsilon, sensitivity=sensitivity_node)\n",
    "dp_node_count = mechanism_node.release(np.array([bd_quasiflow_node]))\n",
    "\n",
    "# kstar count\n",
    "# Note: The sensitivity of the kstar count is much greater than that of the edge and node counts\n",
    "sensitivity_kstar = np.max(h_kstar[:(D+1)]) + np.max(h_kstar[1:(D+1)] - h_kstar[:D])\n",
    "mechanism_kstar = LaplaceMechanism(epsilon=epsilon, sensitivity=sensitivity_kstar)\n",
    "dp_kstar_count = mechanism_kstar.release(np.array([bd_quasiflow_kstar]))"
   ]
  },
  {
   "cell_type": "markdown",
   "id": "reserved-works",
   "metadata": {},
   "source": [
    "#### Display results"
   ]
  },
  {
   "cell_type": "code",
   "execution_count": 10,
   "id": "convertible-paraguay",
   "metadata": {},
   "outputs": [
    {
     "name": "stdout",
     "output_type": "stream",
     "text": [
      "Exact edge count = 119.000000\n",
      "Approximate edge count = 119.000000\n",
      "Differentially private edge count = 117.148070\n",
      "\n",
      "Exact node count = 128.000000\n",
      "Approximate node count = 128.000000\n",
      "Differentially private node count = 127.806005\n",
      "\n",
      "Exact 3-star count = 125.000000\n",
      "Approximate 3-star count = 123.000000\n",
      "Differentially private 3-star count = 117.834289\n",
      "\n"
     ]
    }
   ],
   "source": [
    "# Edge count\n",
    "print(\"Exact edge count = %f\" % edge_count)\n",
    "print(\"Approximate edge count = %f\" % bd_quasiflow_edge)\n",
    "print(\"Differentially private edge count = %f\\n\" % dp_edge_count)\n",
    "\n",
    "# Node count\n",
    "print(\"Exact node count = %f\" % node_count)\n",
    "print(\"Approximate node count = %f\" % bd_quasiflow_node)\n",
    "print(\"Differentially private node count = %f\\n\" % dp_node_count)\n",
    "\n",
    "# kstar count\n",
    "print(\"Exact %i-star count = %f\" % (k, kstar_count))\n",
    "print(\"Approximate %i-star count = %f\" % (k, bd_quasiflow_kstar))\n",
    "print(\"Differentially private %i-star count = %f\\n\" % (k, dp_kstar_count))"
   ]
  },
  {
   "cell_type": "markdown",
   "id": "sunset-definition",
   "metadata": {},
   "source": [
    "<hr style=\"border:2px solid gray\"> </hr>"
   ]
  },
  {
   "cell_type": "markdown",
   "id": "colored-thread",
   "metadata": {},
   "source": [
    "## Linear Programming\n",
    "The authors describe a second approximation algorithm for the number of copies of a small template graph $H$ that are contained in a graph $G$.  This algorithm involves solving a linear programming problem. This proces sis comprised of two steps:\n",
    "  1. Forumlate the linear programming problem,\n",
    "  2. Solve the linear programming problem,\n",
    "  3. Add noise to the approximate query response scaled according to its sensitivity."
   ]
  },
  {
   "cell_type": "markdown",
   "id": "second-investigation",
   "metadata": {},
   "source": [
    "#### Generate a random graph"
   ]
  },
  {
   "cell_type": "code",
   "execution_count": 11,
   "id": "excellent-freedom",
   "metadata": {},
   "outputs": [],
   "source": [
    "n = 2 ** 7\n",
    "p = 2 ** -3\n",
    "G = nx.random_graphs.gnp_random_graph(n, p)"
   ]
  },
  {
   "cell_type": "markdown",
   "id": "traditional-position",
   "metadata": {},
   "source": [
    "### Compute the exact query responses\n",
    "This algorithm returns an approximation to the number of copies of some $k$-node subgraph $H$ in $G$.  We give one example of such a query with $k = 3$. "
   ]
  },
  {
   "cell_type": "code",
   "execution_count": 12,
   "id": "likely-palace",
   "metadata": {},
   "outputs": [],
   "source": [
    "# Compute the exact triangle count\n",
    "k = 3\n",
    "triangles = nx.triads_by_type(nx.DiGraph(G))[\"300\"]"
   ]
  },
  {
   "cell_type": "markdown",
   "id": "grave-mechanics",
   "metadata": {},
   "source": [
    "### Formulate linear programming problem\n",
    "To formulate the linear programming problem, we need a set of variables, and objective function, and a set of constraints.  Let $C$ be the set of copies of $H$ in $G$ and for every $c \\in C$ let $V(c)$ be the vertex set of $c$. Finally, let $\\Delta_D f$ be the sensitivity of the query on $D$-bounded graphs.\n",
    "\n",
    "The variables in our linear program are:\n",
    "  - $\\{X_c\\}_{c \\in C}$.\n",
    "\n",
    "The objective function is:\n",
    "  - $\\sum_{c \\in C} X_c$.\n",
    "\n",
    "Subject to the constraints:\n",
    "  - $0 \\leq X_c \\leq 1$ for all $c \\in C$,\n",
    "  - $\\sum_{c: v \\in V(c)} X_C \\leq \\Delta_D f$ for all $v \\in V(G)$\n",
    "  \n",
    "Observe that $\\Delta_D f \\leq k D (D-1)^{k-2}$."
   ]
  },
  {
   "cell_type": "code",
   "execution_count": 13,
   "id": "horizontal-philippines",
   "metadata": {},
   "outputs": [],
   "source": [
    "D = 2**2\n",
    "\n",
    "# Compute bounded-degree triangle count using linear programming\n",
    "c = -np.ones(len(triangles))\n",
    "A_ub = np.zeros((n, len(triangles)))\n",
    "for i, t in enumerate(triangles):\n",
    "    nodes = triangles[i].nodes()\n",
    "    for node in nodes:\n",
    "        A_ub[node, i] = 1\n",
    "\n",
    "sensitivity = k * D * (D - 1) ** (k - 2)\n",
    "b_ub = np.ones(n) * sensitivity\n",
    "bounds = (0.0, 1.0)"
   ]
  },
  {
   "cell_type": "markdown",
   "id": "individual-criticism",
   "metadata": {},
   "source": [
    "### Solve linear programming problem\n",
    "We use `scipy.optimize.linprog` to solve the linear program."
   ]
  },
  {
   "cell_type": "code",
   "execution_count": 14,
   "id": "independent-keeping",
   "metadata": {},
   "outputs": [],
   "source": [
    "res = scipy.optimize.linprog(c, A_ub=A_ub, b_ub=b_ub, bounds=bounds)"
   ]
  },
  {
   "cell_type": "markdown",
   "id": "substantial-compensation",
   "metadata": {},
   "source": [
    "### Add noise scaled according to the sensitivity of the linear program solution\n",
    "We create a differentially private release mechanism by adding Laplace noise to the solution to the linear program computed above scaled according to its sensitivity.\n",
    "\n",
    "Because the Laplace distributed random variables are real-valued, the differentially private query response will be real-valued despite the exact query response being integer-valued."
   ]
  },
  {
   "cell_type": "code",
   "execution_count": 15,
   "id": "cardiac-georgia",
   "metadata": {},
   "outputs": [],
   "source": [
    "# Create a differentially private release mechanism\n",
    "epsilon = 1.0\n",
    "mechanism = LaplaceMechanism(epsilon=epsilon, sensitivity=sensitivity)\n",
    "\n",
    "# Compute the differentially private query response\n",
    "dp_triangle_count = mechanism.release(np.array([-res.fun]))[0]"
   ]
  },
  {
   "cell_type": "markdown",
   "id": "material-subdivision",
   "metadata": {},
   "source": [
    "#### Display results"
   ]
  },
  {
   "cell_type": "code",
   "execution_count": 16,
   "id": "helpful-ladder",
   "metadata": {},
   "outputs": [
    {
     "name": "stdout",
     "output_type": "stream",
     "text": [
      "Exact triangle count = 713\n",
      "Bounded-degree triangle count = 707.999999\n",
      "Differentially private triangle count = 719.161563\n",
      "\n"
     ]
    }
   ],
   "source": [
    "print(\"Exact triangle count = %i\" % len(triangles))\n",
    "print(\"Bounded-degree triangle count = %f\" % -res.fun)\n",
    "print(\"Differentially private triangle count = %f\\n\" % dp_triangle_count)"
   ]
  },
  {
   "cell_type": "code",
   "execution_count": null,
   "id": "sunrise-remark",
   "metadata": {},
   "outputs": [],
   "source": []
  }
 ],
 "metadata": {
  "kernelspec": {
   "display_name": "Python 3",
   "language": "python",
   "name": "python3"
  },
  "language_info": {
   "codemirror_mode": {
    "name": "ipython",
    "version": 3
   },
   "file_extension": ".py",
   "mimetype": "text/x-python",
   "name": "python",
   "nbconvert_exporter": "python",
   "pygments_lexer": "ipython3",
   "version": "3.8.5"
  }
 },
 "nbformat": 4,
 "nbformat_minor": 5
}
