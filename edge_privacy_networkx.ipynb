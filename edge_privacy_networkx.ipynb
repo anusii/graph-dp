{
 "cells": [
  {
   "cell_type": "markdown",
   "id": "comparable-coordinate",
   "metadata": {},
   "source": [
    "# Edge Privacy\n",
    "Reference implementations of techniques described in the paper [Smooth Sensitivity and Sampling in Private Data Analysis](https://cs-people.bu.edu/ads22/pubs/NRS07/NRS07-full-draft-v1.pdf) by Kobbi Nissim, Sofya Raskhodnikova, and Adam Smith."
   ]
  },
  {
   "cell_type": "markdown",
   "id": "framed-workplace",
   "metadata": {},
   "source": [
    "## Library Imports\n",
    "We use [networkx](https://networkx.org) to perform the required graph computations and the implementation of the Cauchy mechanisms provided by [RelM](https://github.com/anusii/RelM) to release the differentially private query responses."
   ]
  },
  {
   "cell_type": "code",
   "execution_count": 1,
   "id": "continued-basic",
   "metadata": {},
   "outputs": [],
   "source": [
    "import numpy as np\n",
    "import networkx as nx\n",
    "from relm.mechanisms import CauchyMechanism"
   ]
  },
  {
   "cell_type": "markdown",
   "id": "indirect-trance",
   "metadata": {},
   "source": [
    "## Triangle Counts\n",
    "We construct a differentially private release mechanism for the number of triangles in a graph. This process is comprised of three steps:\n",
    "  1. Compute the exact query response,\n",
    "  2. Compute the smooth sensitivity of the query,\n",
    "  3. Add noise scaled according to the smooth sensitvity."
   ]
  },
  {
   "cell_type": "markdown",
   "id": "disciplinary-pipeline",
   "metadata": {},
   "source": [
    "### Compute the exact query response"
   ]
  },
  {
   "cell_type": "markdown",
   "id": "psychological-supervision",
   "metadata": {},
   "source": [
    "#### Generate a random graph"
   ]
  },
  {
   "cell_type": "code",
   "execution_count": 2,
   "id": "hybrid-musician",
   "metadata": {},
   "outputs": [],
   "source": [
    "n = 2**13\n",
    "p = 0.01\n",
    "g = nx.random_graphs.gnp_random_graph(n, p)"
   ]
  },
  {
   "cell_type": "markdown",
   "id": "heard-israeli",
   "metadata": {},
   "source": [
    "#### Compute the exact triangle count"
   ]
  },
  {
   "cell_type": "code",
   "execution_count": 3,
   "id": "satisfied-macedonia",
   "metadata": {},
   "outputs": [],
   "source": [
    "triangle_count = np.array([sum(nx.triangles(g).values()) / 3.0])"
   ]
  },
  {
   "cell_type": "markdown",
   "id": "shaped-expense",
   "metadata": {},
   "source": [
    "### Compute the smooth sensitivity of the query"
   ]
  },
  {
   "cell_type": "markdown",
   "id": "sophisticated-alarm",
   "metadata": {},
   "source": [
    "#### Compute the partial count matrices\n",
    "The algorithm that we use to compute the smooth sensitivity of the query is given in terms of the adjacency matrix $X = \\{x_{ij}\\}$ where $x_{ij} = \\mathbf{1}((i,j) \\in E)$. Let the matrix $A$ count the number of triangles that involve each potential edge.  That is, $A = \\{a_{ij}\\}$ where $a_{ij} = \\sum_{k \\in [n]} x_{ik} \\cdot x_{kj}$. Let the matrix $B$ count the number of half-built triangles that involve each potential edge. That is $B = \\{b_{ij}\\}$ where $b_{ij} = \\sum_{k \\in [n]} x_{ik} \\oplus x_{kj}$."
   ]
  },
  {
   "cell_type": "code",
   "execution_count": 4,
   "id": "graphic-default",
   "metadata": {},
   "outputs": [],
   "source": [
    "# Compute the adjacency matrix\n",
    "X = nx.linalg.graphmatrix.adjacency_matrix(g).astype(np.int)\n",
    "\n",
    "# Compute A and B using matrix operations\n",
    "A = (X @ X).todense()\n",
    "B = X.sum(0) + X.sum(1) - 2 * A\n",
    "\n",
    "# Zero out the main diagonal because we are\n",
    "# interested only in indices (i,j) with i != j\n",
    "np.fill_diagonal(A, 0)\n",
    "np.fill_diagonal(B, 0)"
   ]
  },
  {
   "cell_type": "markdown",
   "id": "ultimate-election",
   "metadata": {},
   "source": [
    "#### Compute the local sensitivity at distance $s$ for $0 \\leq s \\leq n$\n",
    "We recall from the paper that if $S_{f,\\epsilon}^*(G)$ is the smooth sensitivity of a query at an input $G$, $LS_f(H)$ is the local sensitivity of $f$ at an input $H$, and $$A^{(s)}(G) = \\max_{H: d(G,H) \\leq s} LS_f(H)$$\n",
    "is the sensitivity of $f$ at distance $s$, then we have\n",
    "$$S_{f,\\epsilon}^*(G) = \\max_{0 \\leq s \\leq n} e^{-\\epsilon s} A^{(s)}(G).$$\n",
    "\n",
    "Furthermore, Nissim et al show that if $f$ counts the number of triangles in a graph then we have\n",
    "$$A^{(s)}(G) = \\max_{0 \\leq i \\neq j \\leq n} c_{ij}(s) \\quad \\text{where} \\quad c_{ij} = \\min \\left(a_{ij} + \\left\\lfloor\\frac{s + \\min(s,b_{ij})}{2}\\right\\rfloor, n-2 \\right).$$\n",
    "\n",
    "They then describe an $O(n^2 \\log n)$ algorithm for computing $A^{(s)}(G)$ for $0 \\leq s \\leq n$ which works by efficiently identifying the pairs $(a_{ij}, b_{ij})$ needed to compute $c_{ij}(s)$ for all $s$. "
   ]
  },
  {
   "cell_type": "code",
   "execution_count": 5,
   "id": "entertaining-carroll",
   "metadata": {},
   "outputs": [],
   "source": [
    "def local_sensitivity_at_all_distances(S, T, n):\n",
    "    \"\"\" Compute the local sensitivity at distance s for 0 <= s <= n. \"\"\"\n",
    "    survivors = find_survivors(A, B, n)\n",
    "    return np.array([local_sensitivity_at_distance(s, survivors) for s in range(n+1)])\n",
    "\n",
    "def find_survivors(A, B, n):\n",
    "    \"\"\" Find (i,j) used to compute local sensitivity at distance 0 <= s <= n.\n",
    "    \n",
    "        First identify all maximal pairs (A[i,j], B[i,j]).\n",
    "        Then find the maximal pairs that will produce the correct value for the\n",
    "        local sensitivity at distance s computations.\n",
    "    \"\"\"\n",
    "    S, T = find_maximal_pairs(A, B, n)\n",
    "    prev_survivor = (S[0], T[0])\n",
    "    break_points = {prev_survivor: n+1}\n",
    "    for survivor in zip(S[1:], T[1:]):\n",
    "        a0, b0 = prev_survivor\n",
    "        a1, b1 = survivor\n",
    "        intersection = 2*(a0 - a1) + b0\n",
    "        if b0 <= intersection <= b1:\n",
    "            break_points[prev_survivor] = intersection\n",
    "            break_points[survivor] = n+1\n",
    "            prev_survivor = survivor\n",
    "    survivors = sorted(break_points.items(), key=lambda _: _[1])\n",
    "    return survivors\n",
    "\n",
    "def find_maximal_pairs(A, B, n):\n",
    "    \"\"\" Find maximal pairs A[i,j], B[i,j].\n",
    "\n",
    "        For each distinct value set(A), keep only the pair\n",
    "        (A[i,j], B[i,j]) with the largest value of B[i,j].\n",
    "    \"\"\"\n",
    "    W = np.array(A).flatten()\n",
    "    X = np.array(B).flatten()\n",
    "    idx = np.argsort(W)\n",
    "    Y = W[idx]\n",
    "    Z = X[idx]\n",
    "    delta = np.concatenate((np.zeros(1), Y[1:] != Y[:-1]))\n",
    "    new_val_idxs = np.concatenate((np.array([0]),\n",
    "                                   np.where(delta)[0],\n",
    "                                   np.array([len(Y)])))\n",
    "    S = np.empty((len(new_val_idxs)-1), dtype=np.int)\n",
    "    T = np.empty((len(new_val_idxs)-1), dtype=np.int)\n",
    "    for i in range(len(new_val_idxs)-1):\n",
    "        S[i] = Y[new_val_idxs[i]]\n",
    "        T[i] = np.max(Z[new_val_idxs[i]:new_val_idxs[i+1]])\n",
    "    return S[::-1], T[::-1]\n",
    "\n",
    "def local_sensitivity_at_distance(s, break_list):\n",
    "    \"\"\" Compute the local sensitivity at distance s. \"\"\"\n",
    "    a, b = next((k for k,v in break_list if s <= v))\n",
    "    return np.minimum(a + np.floor((s + np.minimum(s, b)) / 2.0), n - 2)"
   ]
  },
  {
   "cell_type": "code",
   "execution_count": 6,
   "id": "wooden-governor",
   "metadata": {},
   "outputs": [],
   "source": [
    "# Compute the local sensitivity at distance s for 0 <= s <= n\n",
    "lsd = local_sensitivity_at_all_distances(A, B, n)\n",
    "\n",
    "# Compute the smooth sensitivity\n",
    "epsilon = 1.0\n",
    "smooth_scaling = np.exp(-epsilon * np.arange(n + 1))\n",
    "smooth_sensitivity = np.max(lsd * smooth_scaling)"
   ]
  },
  {
   "cell_type": "markdown",
   "id": "dependent-harris",
   "metadata": {},
   "source": [
    "#### Add noise scaled according to the smooth sensitvity"
   ]
  },
  {
   "cell_type": "code",
   "execution_count": 7,
   "id": "radical-building",
   "metadata": {},
   "outputs": [],
   "source": [
    "# Create a differentially private release mechanism\n",
    "mechanism = CauchyMechanism(epsilon=epsilon)\n",
    "\n",
    "# Compute the differentially private query response\n",
    "dp_triangle_count = mechanism.release(triangle_count, smooth_sensitivity)"
   ]
  },
  {
   "cell_type": "markdown",
   "id": "exciting-instrumentation",
   "metadata": {},
   "source": [
    "#### Display results"
   ]
  },
  {
   "cell_type": "code",
   "execution_count": 8,
   "id": "global-lying",
   "metadata": {},
   "outputs": [
    {
     "name": "stdout",
     "output_type": "stream",
     "text": [
      "Exact triangle count = 91717\n",
      "Differentially private triangle count = 91716.161393\n"
     ]
    }
   ],
   "source": [
    "print(\"Exact triangle count = %i\" % int(triangle_count))\n",
    "print(\"Differentially private triangle count = %f\" % dp_triangle_count)"
   ]
  }
 ],
 "metadata": {
  "kernelspec": {
   "display_name": "Python 3",
   "language": "python",
   "name": "python3"
  },
  "language_info": {
   "codemirror_mode": {
    "name": "ipython",
    "version": 3
   },
   "file_extension": ".py",
   "mimetype": "text/x-python",
   "name": "python",
   "nbconvert_exporter": "python",
   "pygments_lexer": "ipython3",
   "version": "3.8.5"
  }
 },
 "nbformat": 4,
 "nbformat_minor": 5
}
